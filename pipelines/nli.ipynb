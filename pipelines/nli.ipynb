{
 "cells": [
  {
   "cell_type": "code",
   "execution_count": 2,
   "id": "74ded6ef",
   "metadata": {},
   "outputs": [],
   "source": [
    "from transformers import pipeline\n",
    "import torch \n",
    "from transformers import AutoTokenizer, AutoModelForSequenceClassification"
   ]
  },
  {
   "cell_type": "code",
   "execution_count": 3,
   "id": "5522ac87",
   "metadata": {},
   "outputs": [],
   "source": [
    "#Check if CuUDA is available\n",
    "device = \"cuda\" if torch.cuda.is_available() else \"cpu\"\n",
    "\n",
    "\n"
   ]
  },
  {
   "cell_type": "code",
   "execution_count": 5,
   "id": "d7dcefc7",
   "metadata": {},
   "outputs": [
    {
     "name": "stderr",
     "output_type": "stream",
     "text": [
      "Device set to use cpu\n"
     ]
    }
   ],
   "source": [
    "# Creaate an classification analysis pipeline\n",
    "pipe = pipeline(\"text-classification\", model =\"distilbert/distilbert-base-uncased-finetuned-sst-2-english\", device=device)\n"
   ]
  },
  {
   "cell_type": "code",
   "execution_count": 6,
   "id": "431946a1",
   "metadata": {},
   "outputs": [],
   "source": [
    "# testing the pipeline\n",
    "text= \"This is a great day\"\n",
    "result = pipe(text)\n"
   ]
  },
  {
   "cell_type": "code",
   "execution_count": 8,
   "id": "7de172aa",
   "metadata": {},
   "outputs": [
    {
     "name": "stdout",
     "output_type": "stream",
     "text": [
      "Text: This is a great day\n",
      "Result: POSITIVE\n",
      "Conficence: 0.9999\n"
     ]
    }
   ],
   "source": [
    "print(f\"Text: {text}\")\n",
    "print(f\"Result: {result[0]['label']}\")\n",
    "print(f\"Conficence: {result[0]['score']:.4f}\")"
   ]
  }
 ],
 "metadata": {
  "kernelspec": {
   "display_name": "nlpunipi",
   "language": "python",
   "name": "python3"
  },
  "language_info": {
   "codemirror_mode": {
    "name": "ipython",
    "version": 3
   },
   "file_extension": ".py",
   "mimetype": "text/x-python",
   "name": "python",
   "nbconvert_exporter": "python",
   "pygments_lexer": "ipython3",
   "version": "3.10.16"
  }
 },
 "nbformat": 4,
 "nbformat_minor": 5
}
