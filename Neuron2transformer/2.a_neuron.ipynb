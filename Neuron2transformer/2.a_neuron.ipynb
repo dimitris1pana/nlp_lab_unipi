{
 "cells": [
  {
   "cell_type": "markdown",
   "metadata": {},
   "source": [
    "# Artificial Neuron Layer \n",
    "A layer of neurons performs:\n",
    "1. A linear transformation (matrix multiplication + bias)\n",
    "2.\tA non-linear transformation (activation function)\n",
    "\n",
    "Mathematically:\n",
    "$$\\mathbf{Z} = \\mathbf{W} \\cdot \\mathbf{X} + \\mathbf{b}\n",
    "\\quad \\Rightarrow \\quad\n",
    "\\hat{\\mathbf{Y}} = \\sigma(\\mathbf{Z})$$"
   ]
  },
  {
   "cell_type": "code",
   "execution_count": 38,
   "metadata": {},
   "outputs": [],
   "source": [
    "import torch \n",
    "import matplotlib.pyplot as plt"
   ]
  },
  {
   "cell_type": "code",
   "execution_count": 39,
   "metadata": {},
   "outputs": [
    {
     "data": {
      "text/plain": [
       "tensor([2.3217e-01, 2.0648e-01, 1.4801e-01, 6.9799e-01, 1.7806e-03, 3.9302e-01,\n",
       "        3.3314e-01, 3.2338e-01, 8.9232e-01, 5.4687e-01, 4.9780e-01, 4.1112e-01,\n",
       "        9.6523e-01, 9.5067e-01, 9.4951e-01, 4.6668e-01, 8.4018e-01, 4.5098e-01,\n",
       "        1.6442e-01, 6.9505e-01, 2.5716e-01, 4.9560e-01, 5.3395e-01, 8.3753e-01,\n",
       "        3.2947e-01, 3.7509e-01, 4.7543e-01, 3.9478e-01, 7.1928e-01, 1.8299e-01,\n",
       "        2.5591e-01, 6.7562e-01, 4.7081e-01, 8.0105e-01, 6.4772e-01, 9.1785e-01,\n",
       "        1.0514e-01, 4.8338e-01, 2.6882e-01, 7.6519e-01, 9.2601e-01, 2.9476e-01,\n",
       "        5.0898e-01, 8.1456e-01, 5.5872e-01, 8.5343e-01, 7.1316e-01, 9.8743e-01,\n",
       "        4.7725e-01, 9.4559e-01, 8.7915e-01, 6.6605e-01, 1.0625e-01, 5.4692e-01,\n",
       "        6.3737e-01, 7.6422e-01, 1.6771e-01, 7.2160e-01, 5.1417e-01, 1.2138e-01,\n",
       "        7.0705e-01, 6.3815e-01, 7.5481e-01, 8.8227e-01, 4.4790e-01, 6.2966e-01,\n",
       "        2.4801e-01, 4.2056e-01, 4.6452e-01, 4.8374e-01, 9.9809e-01, 4.9535e-01,\n",
       "        2.2903e-01, 3.9597e-01, 5.0488e-01, 4.1747e-01, 8.4818e-01, 2.4811e-01,\n",
       "        4.9831e-01, 6.7479e-01, 3.4985e-01, 6.9595e-01, 1.6479e-01, 3.0076e-01,\n",
       "        8.4303e-01, 2.0041e-01, 5.1872e-01, 3.1958e-01, 8.7469e-01, 9.4204e-01,\n",
       "        4.2944e-02, 9.3027e-01, 2.8529e-01, 6.6317e-01, 3.2634e-01, 9.9215e-02,\n",
       "        2.9598e-01, 4.1857e-01, 1.2639e-01, 8.3502e-01, 1.0524e-01, 9.4004e-01,\n",
       "        5.9273e-01, 9.0817e-01, 5.6316e-01, 8.0085e-01, 5.8034e-01, 3.6480e-01,\n",
       "        7.9357e-01, 5.7348e-01, 9.2252e-01, 8.8163e-01, 5.3025e-01, 9.2411e-01,\n",
       "        3.2504e-01, 1.0110e-01, 3.8006e-01, 4.0708e-02, 3.2578e-01, 8.8428e-01,\n",
       "        3.1562e-01, 8.2411e-01, 8.7092e-01, 6.3934e-01, 5.6750e-01, 6.0462e-01,\n",
       "        2.6107e-04, 1.3299e-01, 7.5993e-01, 6.4677e-01, 3.9853e-01, 4.6438e-01,\n",
       "        2.1493e-01, 3.3188e-01, 9.3860e-01, 1.2682e-01, 1.9920e-01, 6.1434e-01,\n",
       "        6.5748e-02, 4.0115e-01, 5.5731e-01, 4.3610e-01, 9.9737e-01, 8.2770e-01,\n",
       "        3.5480e-01, 8.1113e-01, 8.2525e-01, 6.2011e-01, 3.2220e-01, 2.2249e-03,\n",
       "        3.7858e-01, 9.8469e-01, 5.5753e-01, 3.1805e-01, 7.3744e-01, 4.3504e-01,\n",
       "        7.7418e-01, 1.9656e-01, 3.9693e-01, 4.1548e-01, 6.4950e-01, 5.1305e-01,\n",
       "        8.3907e-01, 6.3210e-01, 4.5619e-01, 9.7974e-01, 9.1583e-02, 2.1631e-01,\n",
       "        2.4315e-01, 9.6049e-02, 3.2007e-01, 9.5291e-01, 7.5458e-01, 9.3718e-02,\n",
       "        7.6961e-02, 7.8278e-01, 4.3417e-01, 2.6629e-01, 2.2522e-01, 7.3392e-01,\n",
       "        2.0958e-01, 2.9568e-01, 3.2718e-01, 1.3300e-01, 8.0086e-01, 9.8222e-01,\n",
       "        1.1559e-01, 8.1934e-01, 2.9675e-01, 2.9468e-01, 5.3963e-01, 9.1120e-01,\n",
       "        4.8179e-01, 8.5564e-01, 8.2404e-01, 4.9648e-01, 1.8711e-01, 6.8551e-01,\n",
       "        2.6185e-01, 6.6521e-01, 3.3764e-01, 4.5359e-01, 9.9609e-01, 6.6118e-01,\n",
       "        7.3250e-01, 4.8934e-01, 9.9684e-01, 3.0002e-01, 2.1847e-01, 7.7787e-01,\n",
       "        8.2953e-01, 6.0988e-01, 4.7781e-01, 6.5809e-01, 9.6073e-02, 8.6729e-01,\n",
       "        7.7636e-01, 2.0788e-02, 5.6453e-01, 5.9023e-01, 6.1402e-01, 4.7681e-01,\n",
       "        9.2887e-01, 9.2178e-01, 3.5630e-02, 1.9219e-01, 7.3481e-01, 4.4269e-01,\n",
       "        1.3430e-02, 5.6503e-01, 3.2547e-02, 9.1584e-01, 8.7213e-01, 8.6762e-01,\n",
       "        9.4772e-01, 1.5304e-01, 3.0982e-01, 9.8942e-01, 9.0574e-01, 6.7815e-01,\n",
       "        7.5932e-01, 5.0198e-01, 6.1191e-01, 5.3826e-02, 8.8971e-01, 4.5275e-01,\n",
       "        1.9274e-02, 1.6761e-01, 5.9739e-03, 3.8554e-01, 9.2256e-01, 6.4672e-01,\n",
       "        7.2127e-01, 7.1140e-01, 1.8804e-01, 6.5578e-01, 7.9848e-01, 5.0557e-01,\n",
       "        8.9288e-01, 6.6907e-01, 6.1322e-01, 8.7027e-02, 3.5656e-01, 6.6138e-02,\n",
       "        4.4671e-01, 2.5696e-01, 7.2162e-01, 2.9733e-01, 4.2113e-01, 2.9321e-01,\n",
       "        6.7963e-01, 7.2033e-01, 2.8063e-02, 5.3989e-01, 9.3875e-01, 5.7358e-01,\n",
       "        6.6832e-01, 3.1580e-01, 2.1623e-01, 5.1826e-01, 5.3043e-01, 2.0342e-01,\n",
       "        1.6007e-01, 2.1178e-01, 1.4376e-01, 9.3590e-01, 5.6445e-01, 9.3755e-01,\n",
       "        7.6703e-01, 6.6337e-01, 4.1810e-01, 4.4809e-01, 8.6708e-01, 2.1520e-01,\n",
       "        3.5889e-02, 1.4011e-01, 2.6038e-02, 1.9526e-01, 9.1970e-01, 9.7331e-01,\n",
       "        2.4703e-01, 8.6211e-02, 6.6449e-01, 9.3390e-01, 3.0836e-01, 6.6459e-01,\n",
       "        7.7958e-01, 9.2046e-01, 9.9777e-01, 1.3882e-01, 3.8718e-02, 9.4570e-01,\n",
       "        5.5686e-01, 7.8602e-02, 9.0643e-01, 5.1958e-01, 4.4899e-01, 3.0928e-01,\n",
       "        1.9448e-01, 6.5499e-01, 4.2621e-01, 9.4837e-01, 6.5910e-01, 5.6739e-01,\n",
       "        9.9568e-01, 9.2489e-01, 7.5494e-01, 5.6669e-01, 9.3565e-02, 2.4876e-01,\n",
       "        7.7023e-01, 1.6773e-01, 5.3925e-01, 4.2359e-01, 8.6334e-01, 6.3278e-01,\n",
       "        7.8402e-01, 1.9543e-01, 6.2154e-01, 4.3105e-01, 3.3907e-01, 5.9757e-01,\n",
       "        3.3389e-02, 2.5138e-01, 6.8326e-01, 8.5277e-01, 3.8996e-01, 7.8404e-01,\n",
       "        1.7824e-01, 2.3321e-01, 5.8742e-02, 8.8105e-01, 5.1565e-01, 8.1143e-01,\n",
       "        6.4530e-01, 2.9861e-01, 9.2304e-01, 8.4596e-01, 6.9945e-01, 4.7967e-01,\n",
       "        8.9995e-02, 3.7842e-01, 2.3679e-01, 4.0079e-01, 4.9669e-01, 3.7281e-01,\n",
       "        2.8896e-01, 5.3126e-01, 3.3615e-01, 4.2787e-01, 4.8883e-01, 2.9057e-01,\n",
       "        4.0102e-01, 1.1185e-01, 1.2386e-01, 6.0113e-01, 9.1264e-01, 3.1210e-01,\n",
       "        5.7715e-01, 8.8350e-01, 3.2703e-01, 6.7949e-01, 8.2476e-01, 5.4646e-01,\n",
       "        6.8022e-02, 2.5076e-01, 7.0863e-01, 9.1404e-01, 3.0350e-01, 3.6842e-01,\n",
       "        8.7481e-01, 8.1529e-01, 1.2042e-01, 9.7083e-01, 5.3761e-01, 6.3512e-01,\n",
       "        8.1232e-02, 9.1049e-01, 4.2657e-01, 5.8971e-01, 5.0364e-02, 2.2833e-01,\n",
       "        9.5447e-01, 7.6412e-01, 6.4921e-01, 6.1212e-01, 1.4735e-01, 8.3421e-01,\n",
       "        9.5833e-01, 2.0072e-01, 3.7438e-01, 5.2612e-01, 5.6019e-01, 1.3192e-01,\n",
       "        7.6945e-01, 9.7589e-01, 1.1196e-01, 4.8142e-01, 9.6317e-02, 5.9981e-01,\n",
       "        8.9328e-01, 5.6139e-01, 3.6947e-01, 7.2166e-01, 1.8858e-01, 6.1498e-01,\n",
       "        8.0466e-01, 7.6987e-01, 4.3203e-01, 3.9711e-01, 7.0964e-01, 2.8514e-01,\n",
       "        4.4496e-01, 5.8575e-01, 5.9601e-01, 3.2348e-02, 2.6480e-01, 8.5685e-01,\n",
       "        3.9923e-01, 2.1442e-01, 1.8134e-01, 5.5358e-01, 9.9775e-01, 6.1487e-01,\n",
       "        8.6101e-01, 6.9018e-01, 1.9263e-01, 7.9980e-01, 9.4211e-01, 5.8739e-01,\n",
       "        8.3458e-01, 1.7544e-01, 1.6549e-01, 3.0402e-01, 5.6371e-01, 8.2280e-01,\n",
       "        3.3933e-02, 3.0367e-01, 9.7229e-02, 9.5838e-01, 4.4981e-01, 2.7743e-01,\n",
       "        4.7194e-01, 8.1436e-01, 9.1012e-02, 7.7977e-01, 4.5149e-01, 9.4106e-02,\n",
       "        9.4550e-01, 8.1839e-01, 1.2615e-01, 5.2374e-01, 6.9017e-01, 4.4549e-01,\n",
       "        7.9660e-01, 1.6002e-01, 3.4341e-01, 4.0646e-01, 9.9011e-01, 2.8543e-01,\n",
       "        2.1889e-01, 8.7162e-01, 4.6825e-01, 9.5232e-01, 2.7772e-01, 9.7396e-01,\n",
       "        9.4475e-01, 6.6052e-01, 8.3961e-02, 9.5153e-01, 5.9581e-01, 9.1920e-01,\n",
       "        5.4386e-01, 2.2507e-01, 5.7516e-01, 5.0714e-01, 6.6358e-01, 4.5240e-01,\n",
       "        8.4008e-01, 6.2711e-01, 8.4636e-01, 4.0372e-01, 5.5620e-01, 6.8542e-03,\n",
       "        8.3732e-01, 1.0627e-02, 1.3924e-01, 6.1269e-01, 7.2069e-01, 5.2317e-01,\n",
       "        1.6448e-01, 6.3460e-01, 1.4245e-01, 4.5720e-01, 7.5615e-01, 5.8160e-01,\n",
       "        2.9357e-01, 3.0428e-01, 3.6989e-01, 6.2455e-01, 3.2346e-01, 9.9441e-01,\n",
       "        6.2950e-01, 4.6330e-01, 9.4302e-01, 8.1631e-01, 4.2413e-01, 9.1967e-01,\n",
       "        5.5642e-01, 3.1944e-01, 5.4576e-01, 3.5032e-01, 5.1138e-01, 4.5830e-01,\n",
       "        8.2726e-01, 8.0551e-01, 1.1993e-01, 2.2317e-02, 1.0104e-01, 4.2705e-01,\n",
       "        4.3432e-01, 1.1827e-01, 5.9491e-01, 8.2278e-02, 1.8752e-01, 4.7928e-01,\n",
       "        3.6226e-01, 2.1514e-01, 1.1530e-01, 4.2995e-01, 1.5748e-01, 1.6972e-01,\n",
       "        9.6743e-01, 6.9974e-02, 4.0537e-01, 3.0765e-01, 1.0914e-01, 7.8238e-01,\n",
       "        3.3985e-01, 4.9790e-01, 8.7631e-01, 1.9608e-01, 4.7231e-01, 3.9749e-01,\n",
       "        9.4040e-01, 2.6095e-02, 3.6454e-01, 2.4933e-02, 5.6714e-02, 4.2489e-01,\n",
       "        5.2941e-01, 8.3234e-01, 3.5168e-02, 8.1507e-01, 8.4300e-01, 4.4601e-01,\n",
       "        4.9603e-01, 3.6409e-01, 3.3047e-01, 8.2065e-01, 5.4208e-01, 5.9004e-01,\n",
       "        4.0542e-02, 5.8104e-01, 2.9078e-01, 6.0866e-01, 1.2998e-01, 4.0529e-01,\n",
       "        3.7193e-01, 2.4043e-01, 8.5876e-01, 7.7469e-01, 2.3222e-01, 2.0763e-01,\n",
       "        3.9672e-01, 7.5258e-01, 1.8943e-01, 1.1360e-01, 5.8845e-01, 7.1386e-01,\n",
       "        1.8367e-01, 9.5629e-01, 3.6627e-01, 1.6330e-01, 9.1808e-01, 5.2089e-01,\n",
       "        1.7131e-01, 5.6190e-01, 1.8011e-01, 4.9873e-01, 5.9433e-01, 5.1104e-02,\n",
       "        7.5135e-01, 5.4184e-01, 8.3504e-01, 2.1540e-01, 5.1450e-01, 8.9937e-01,\n",
       "        9.2891e-01, 3.7359e-01, 1.5267e-01, 7.0450e-01, 7.8506e-01, 7.1860e-01,\n",
       "        8.6013e-01, 8.3995e-01, 3.3646e-01, 5.1069e-01, 2.7443e-01, 9.7345e-01,\n",
       "        9.7264e-01, 1.0958e-01, 9.9413e-01, 1.2893e-01, 1.3483e-02, 7.0235e-01,\n",
       "        8.9236e-01, 3.4005e-01, 1.9736e-01, 2.8006e-01, 9.7001e-01, 4.1177e-01,\n",
       "        3.2299e-01, 7.2050e-01, 3.7227e-01, 8.3565e-01, 8.1412e-01, 5.8554e-01,\n",
       "        4.4629e-01, 7.7540e-01, 7.3205e-01, 9.9777e-01, 7.9551e-01, 9.1507e-01,\n",
       "        1.9156e-01, 2.0953e-01, 9.9147e-01, 5.8008e-02, 1.7141e-01, 8.5922e-01,\n",
       "        9.5426e-01, 9.5262e-01, 8.9238e-02, 8.1082e-01, 8.6511e-01, 7.7704e-01,\n",
       "        2.7683e-01, 6.0801e-01, 2.7893e-01, 3.1097e-01, 5.9779e-01, 5.7389e-01,\n",
       "        3.6736e-01, 4.9050e-01, 7.9728e-01, 8.1155e-01, 1.5367e-01, 2.6490e-01,\n",
       "        2.1990e-01, 3.7061e-01, 8.1153e-01, 8.6229e-01, 1.9217e-01, 7.0072e-01,\n",
       "        4.7775e-01, 4.1984e-03, 6.4679e-01, 4.2021e-01, 8.8373e-01, 4.4348e-01,\n",
       "        5.3078e-01, 6.5068e-01, 3.1067e-01, 9.3545e-01, 8.4520e-01, 5.6054e-01,\n",
       "        3.5425e-01, 7.8370e-01, 7.4709e-01, 1.5081e-01, 7.6809e-01, 6.6733e-01,\n",
       "        1.3391e-01, 9.7032e-01, 1.0474e-01, 9.4670e-01, 8.7392e-01, 4.5778e-01,\n",
       "        6.3154e-02, 1.2450e-01, 9.2049e-01, 9.7285e-01, 3.0099e-01, 9.5814e-01,\n",
       "        1.7435e-01, 4.3164e-01, 1.3659e-01, 8.1497e-01, 9.6798e-01, 2.6692e-01,\n",
       "        7.3348e-01, 6.0213e-01, 9.4276e-01, 2.8560e-01, 9.5164e-01, 3.3755e-01,\n",
       "        1.9067e-01, 9.9093e-01, 8.0186e-01, 5.0103e-01, 8.9314e-01, 3.4744e-01,\n",
       "        9.8514e-01, 4.1578e-01, 5.3449e-01, 2.2342e-01, 7.4670e-01, 3.0480e-01,\n",
       "        9.1008e-01, 2.0580e-02, 6.7670e-01, 7.9212e-01, 4.6358e-01, 8.8292e-01,\n",
       "        6.6415e-01, 3.5594e-01, 5.5482e-01, 5.0456e-02, 1.2683e-01, 6.1788e-01,\n",
       "        1.9021e-01, 7.6163e-01, 3.2303e-01, 8.5401e-02, 8.4892e-01, 4.7587e-01,\n",
       "        1.9865e-01, 9.5454e-02, 9.4380e-01, 5.0128e-01, 8.6167e-01, 6.0672e-01,\n",
       "        3.0117e-01, 2.4265e-01, 1.1399e-01, 9.6382e-03, 6.9787e-01, 2.6788e-01,\n",
       "        7.3510e-01, 2.7102e-02, 4.7197e-01, 6.4384e-01, 8.7032e-01, 4.1820e-01,\n",
       "        9.7063e-01, 4.3915e-01, 9.2365e-01, 6.5306e-01, 4.9040e-01, 2.1901e-01,\n",
       "        7.9110e-01, 5.4531e-01, 8.0367e-01, 8.2485e-01, 2.0518e-01, 3.8446e-01,\n",
       "        9.5501e-01, 6.8690e-01, 9.3321e-02, 9.4841e-01, 2.1948e-01, 8.4037e-01,\n",
       "        6.0126e-01, 1.8673e-01, 3.7077e-01, 9.1657e-01, 4.3973e-01, 2.4982e-01,\n",
       "        1.1065e-01, 2.8066e-01, 1.1672e-01, 1.3190e-01, 1.5846e-01, 6.1253e-01,\n",
       "        6.6812e-01, 6.3419e-02, 6.5032e-01, 7.7814e-01, 8.8925e-01, 8.0591e-01,\n",
       "        5.2875e-01, 1.4066e-01, 3.6840e-01, 8.3636e-01, 4.2153e-01, 4.4549e-01,\n",
       "        3.4747e-01, 4.0394e-01, 3.0398e-01, 9.8646e-01, 5.8315e-01, 8.4538e-01,\n",
       "        4.7987e-01, 6.7276e-01, 7.2192e-01, 9.0246e-01, 5.8731e-01, 3.6457e-01,\n",
       "        8.8117e-02, 3.6542e-02, 3.9035e-01, 6.8388e-01, 8.1667e-01, 9.3360e-01,\n",
       "        5.8268e-01, 3.5622e-01, 4.3539e-01, 8.8760e-02, 3.6723e-02, 4.2359e-01,\n",
       "        9.9535e-02, 6.9590e-01, 6.7369e-01, 1.0826e-02, 1.3804e-01, 2.2579e-01,\n",
       "        5.7281e-01, 4.6079e-01, 2.3592e-01, 2.2393e-01, 7.3281e-01, 3.4262e-01,\n",
       "        6.3987e-01, 7.1974e-01, 4.0908e-02, 5.0872e-01, 5.4007e-02, 3.6227e-01,\n",
       "        4.0708e-01, 6.7584e-01, 1.3373e-01, 4.9222e-01, 5.5783e-01, 4.4467e-01,\n",
       "        5.7102e-01, 3.9204e-01, 9.4768e-01, 9.5282e-01, 9.0439e-01, 5.0688e-01,\n",
       "        3.4802e-02, 8.9692e-01, 8.8946e-01, 7.4664e-01, 5.7624e-01, 6.8127e-01,\n",
       "        2.1260e-01, 8.4769e-01, 9.4427e-01, 4.6794e-01, 4.8270e-01, 5.4805e-01,\n",
       "        7.9438e-01, 6.5115e-01, 2.6700e-01, 8.4314e-01, 1.6698e-01, 6.1206e-01,\n",
       "        3.0839e-01, 7.7004e-01, 2.2147e-01, 2.0463e-01, 2.1101e-01, 1.0217e-01,\n",
       "        6.1978e-01, 2.6783e-01, 6.5053e-01, 2.9861e-01, 1.0309e-01, 6.7112e-01,\n",
       "        3.5556e-02, 9.0107e-01, 8.7037e-01, 1.7464e-02, 8.1200e-01, 1.3271e-02,\n",
       "        3.3436e-02, 3.8820e-01, 5.8449e-01, 6.6779e-01, 7.2829e-01, 9.2395e-01,\n",
       "        6.1955e-01, 9.0485e-01, 7.0036e-01, 5.5977e-02, 8.8853e-02, 9.4259e-01,\n",
       "        7.4020e-01, 8.9417e-01, 5.5086e-01, 7.4433e-01, 6.9703e-01, 4.2187e-01,\n",
       "        8.2588e-01, 9.5330e-01, 3.1087e-01, 3.5310e-01, 6.4742e-01, 8.6725e-01,\n",
       "        8.6570e-01, 3.3467e-01, 9.4424e-01, 9.6978e-01, 1.5950e-01, 8.1961e-01,\n",
       "        8.6003e-02, 2.3183e-01, 4.5246e-01, 7.1860e-01, 8.2613e-01, 6.0133e-01,\n",
       "        1.7115e-01, 7.5089e-01, 4.3858e-01, 8.8939e-01, 9.0648e-01, 2.3500e-01,\n",
       "        6.9386e-01, 8.8573e-01, 9.0264e-01, 6.6075e-01, 3.3872e-01, 5.1875e-01,\n",
       "        6.0736e-01, 2.2124e-01, 8.0666e-01, 1.0565e-01, 5.7648e-01, 9.5689e-01,\n",
       "        4.8173e-01, 3.7740e-01, 8.9861e-01, 5.7406e-01, 7.2774e-01, 9.4920e-02,\n",
       "        1.6047e-01, 3.2268e-01, 5.1520e-01, 3.0390e-01, 1.7325e-01, 1.2598e-01,\n",
       "        5.8691e-01, 7.4472e-01, 4.9789e-01, 1.8453e-01, 3.4461e-01, 1.8839e-01,\n",
       "        1.5366e-01, 9.9823e-01, 9.6942e-01, 3.0602e-01, 2.3895e-01, 2.9949e-01,\n",
       "        5.3227e-01, 3.9016e-01, 4.9725e-02, 3.6543e-01, 3.3579e-01, 1.6229e-01,\n",
       "        5.4576e-01, 7.0895e-01, 6.7964e-02, 2.2320e-01, 4.6360e-01, 2.6308e-02,\n",
       "        8.2331e-01, 8.1200e-01, 7.5673e-01, 3.5684e-01])"
      ]
     },
     "execution_count": 39,
     "metadata": {},
     "output_type": "execute_result"
    }
   ],
   "source": [
    "# Neuron setup \n",
    "n_input = 1000 \n",
    "n_neurons = 100\n",
    "# simuluting the input x transform \n",
    "x= torch.rand(n_input)\n",
    "x"
   ]
  },
  {
   "cell_type": "code",
   "execution_count": 40,
   "metadata": {},
   "outputs": [
    {
     "data": {
      "text/plain": [
       "tensor([0., 0., 0., 0., 0., 0., 0., 0., 0., 0., 0., 0., 0., 0., 0., 0., 0., 0., 0., 0., 0., 0., 0., 0.,\n",
       "        0., 0., 0., 0., 0., 0., 0., 0., 0., 0., 0., 0., 0., 0., 0., 0., 0., 0., 0., 0., 0., 0., 0., 0.,\n",
       "        0., 0., 0., 0., 0., 0., 0., 0., 0., 0., 0., 0., 0., 0., 0., 0., 0., 0., 0., 0., 0., 0., 0., 0.,\n",
       "        0., 0., 0., 0., 0., 0., 0., 0., 0., 0., 0., 0., 0., 0., 0., 0., 0., 0., 0., 0., 0., 0., 0., 0.,\n",
       "        0., 0., 0., 0.])"
      ]
     },
     "execution_count": 40,
     "metadata": {},
     "output_type": "execute_result"
    }
   ],
   "source": [
    "b= torch.zeros(n_neurons)\n",
    "b.shape\n",
    "b"
   ]
  },
  {
   "cell_type": "code",
   "execution_count": 41,
   "metadata": {},
   "outputs": [
    {
     "data": {
      "text/plain": [
       "torch.Size([1000])"
      ]
     },
     "execution_count": 41,
     "metadata": {},
     "output_type": "execute_result"
    }
   ],
   "source": [
    "x.shape"
   ]
  },
  {
   "cell_type": "code",
   "execution_count": 42,
   "metadata": {},
   "outputs": [
    {
     "data": {
      "text/plain": [
       "tensor([0.2322, 0.2065, 0.1480, 0.6980, 0.0018, 0.3930, 0.3331, 0.3234, 0.8923,\n",
       "        0.5469, 0.4978, 0.4111, 0.9652, 0.9507, 0.9495, 0.4667, 0.8402, 0.4510,\n",
       "        0.1644, 0.6951, 0.2572, 0.4956, 0.5340, 0.8375, 0.3295, 0.3751, 0.4754,\n",
       "        0.3948, 0.7193, 0.1830, 0.2559, 0.6756, 0.4708, 0.8010, 0.6477, 0.9179,\n",
       "        0.1051, 0.4834, 0.2688, 0.7652, 0.9260, 0.2948, 0.5090, 0.8146, 0.5587,\n",
       "        0.8534, 0.7132, 0.9874, 0.4773, 0.9456, 0.8791, 0.6661, 0.1062, 0.5469,\n",
       "        0.6374, 0.7642, 0.1677, 0.7216, 0.5142, 0.1214, 0.7070, 0.6381, 0.7548,\n",
       "        0.8823, 0.4479, 0.6297, 0.2480, 0.4206, 0.4645, 0.4837, 0.9981, 0.4954,\n",
       "        0.2290, 0.3960, 0.5049, 0.4175, 0.8482, 0.2481, 0.4983, 0.6748, 0.3498,\n",
       "        0.6959, 0.1648, 0.3008, 0.8430, 0.2004, 0.5187, 0.3196, 0.8747, 0.9420,\n",
       "        0.0429, 0.9303, 0.2853, 0.6632, 0.3263, 0.0992, 0.2960, 0.4186, 0.1264,\n",
       "        0.8350])"
      ]
     },
     "execution_count": 42,
     "metadata": {},
     "output_type": "execute_result"
    }
   ],
   "source": [
    "x[0:100]"
   ]
  },
  {
   "cell_type": "code",
   "execution_count": 43,
   "metadata": {},
   "outputs": [
    {
     "data": {
      "image/png": "[encoded data removed]",
      "text/plain": [
       "<Figure size 640x480 with 1 Axes>"
      ]
     },
     "metadata": {},
     "output_type": "display_data"
    }
   ],
   "source": [
    "_= plt.hist(x)"
   ]
  },
  {
   "cell_type": "code",
   "execution_count": 44,
   "metadata": {},
   "outputs": [],
   "source": [
    "# Randomizing weights \n",
    "W= torch.empty([n_input, n_neurons])\n",
    "W =torch.nn.init.xavier_normal_(W)\n"
   ]
  },
  {
   "cell_type": "code",
   "execution_count": 45,
   "metadata": {},
   "outputs": [
    {
     "name": "stdout",
     "output_type": "stream",
     "text": [
      "torch.Size([1000]) torch.Size([1000, 100])\n"
     ]
    }
   ],
   "source": [
    "print(x.shape, W.shape)"
   ]
  },
  {
   "cell_type": "code",
   "execution_count": 46,
   "metadata": {},
   "outputs": [],
   "source": [
    "from numpy import transpose\n",
    "W_t = transpose(W)\n",
    "x_w = torch.mul(x, W_t)\n",
    "\n"
   ]
  },
  {
   "cell_type": "code",
   "execution_count": 47,
   "metadata": {},
   "outputs": [
    {
     "data": {
      "text/plain": [
       "tensor([[ 0.0005,  0.0128, -0.0052,  ..., -0.0369,  0.0635, -0.0331],\n",
       "        [-0.0137,  0.0038, -0.0038,  ..., -0.0123,  0.0210,  0.0312],\n",
       "        [-0.0124, -0.0032, -0.0018,  ...,  0.0118,  0.0788,  0.0036],\n",
       "        ...,\n",
       "        [ 0.0075, -0.0008,  0.0074,  ...,  0.0112,  0.0164, -0.0068],\n",
       "        [-0.0105, -0.0016, -0.0012,  ...,  0.0438,  0.0358, -0.0094],\n",
       "        [-0.0067,  0.0075,  0.0018,  ..., -0.0150,  0.0132,  0.0051]])"
      ]
     },
     "execution_count": 47,
     "metadata": {},
     "output_type": "execute_result"
    }
   ],
   "source": [
    "x_w"
   ]
  },
  {
   "cell_type": "code",
   "execution_count": 48,
   "metadata": {},
   "outputs": [
    {
     "name": "stdout",
     "output_type": "stream",
     "text": [
      "torch.Size([1000])\n",
      "torch.Size([1000, 100])\n"
     ]
    }
   ],
   "source": [
    "print(x.shape)\n",
    "print(W.shape)\n",
    "z =torch.matmul(x, W)+b"
   ]
  },
  {
   "cell_type": "code",
   "execution_count": 49,
   "metadata": {},
   "outputs": [
    {
     "data": {
      "text/plain": [
       "torch.Size([100])"
      ]
     },
     "execution_count": 49,
     "metadata": {},
     "output_type": "execute_result"
    }
   ],
   "source": [
    "z\n",
    "z.shape"
   ]
  },
  {
   "cell_type": "code",
   "execution_count": 50,
   "metadata": {},
   "outputs": [],
   "source": [
    "a = torch.tanh(z)\n"
   ]
  },
  {
   "cell_type": "code",
   "execution_count": 51,
   "metadata": {},
   "outputs": [],
   "source": [
    "aa = torch.sigmoid(z)"
   ]
  },
  {
   "cell_type": "code",
   "execution_count": 52,
   "metadata": {},
   "outputs": [
    {
     "data": {
      "text/plain": [
       "tensor([ 0.5837,  0.2013, -0.1174,  0.3151,  0.2279, -0.8148, -0.1364,  0.2061,\n",
       "         0.7980, -0.0424,  0.0100, -0.9779, -0.8530, -0.3428, -0.6212, -0.4717,\n",
       "         0.6920,  0.8479,  0.9589, -0.1622,  0.6843,  0.6648, -0.6326, -0.6699,\n",
       "        -0.7594,  0.0867, -0.8427,  0.2548, -0.8522, -0.5557,  0.2281,  0.1179,\n",
       "        -0.8792,  0.8686,  0.6244, -0.8122, -0.5057,  0.8021, -0.4500,  0.5762,\n",
       "         0.2243,  0.9185, -0.8292, -0.7523,  0.3069,  0.6054,  0.4072,  0.8685,\n",
       "         0.0751, -0.8918,  0.9501, -0.6144, -0.5147, -0.5961, -0.8179, -0.5398,\n",
       "        -0.7694,  0.0811, -0.0885, -0.3204, -0.0767,  0.9708, -0.7962, -0.6390,\n",
       "         0.6768, -0.5122,  0.0088, -0.4475, -0.4020, -0.6542,  0.0699, -0.5597,\n",
       "        -0.7958, -0.8115,  0.6030,  0.7600,  0.1936, -0.6114, -0.1480, -0.9096,\n",
       "        -0.3108, -0.6160,  0.1572, -0.1920,  0.4038, -0.5365, -0.7015, -0.6197,\n",
       "         0.4484,  0.6633,  0.2642, -0.7639,  0.5530,  0.6693, -0.8824,  0.4299,\n",
       "         0.8987, -0.8272,  0.5511, -0.5196])"
      ]
     },
     "execution_count": 52,
     "metadata": {},
     "output_type": "execute_result"
    }
   ],
   "source": [
    "a"
   ]
  },
  {
   "cell_type": "code",
   "execution_count": 53,
   "metadata": {},
   "outputs": [
    {
     "data": {
      "text/plain": [
       "tensor([0.6611, 0.5509, 0.4706, 0.5808, 0.5577, 0.2421, 0.4657, 0.5521, 0.7490,\n",
       "        0.4894, 0.5025, 0.0956, 0.2198, 0.4116, 0.3259, 0.3747, 0.7009, 0.7771,\n",
       "        0.8735, 0.4592, 0.6979, 0.6903, 0.3218, 0.3078, 0.2699, 0.5217, 0.2261,\n",
       "        0.5648, 0.2203, 0.3483, 0.5578, 0.5296, 0.2023, 0.7904, 0.6753, 0.2435,\n",
       "        0.3642, 0.7511, 0.3811, 0.6585, 0.5568, 0.8291, 0.2341, 0.2733, 0.5786,\n",
       "        0.6685, 0.6064, 0.7904, 0.5188, 0.1930, 0.8621, 0.3283, 0.3614, 0.3347,\n",
       "        0.2404, 0.3535, 0.2652, 0.5203, 0.4778, 0.4177, 0.4808, 0.8915, 0.2520,\n",
       "        0.3194, 0.6949, 0.3622, 0.5022, 0.3819, 0.3951, 0.3138, 0.5175, 0.3470,\n",
       "        0.2522, 0.2439, 0.6677, 0.7303, 0.5489, 0.3293, 0.4628, 0.1787, 0.4203,\n",
       "        0.3277, 0.5396, 0.4515, 0.6054, 0.3545, 0.2952, 0.3264, 0.6184, 0.6897,\n",
       "        0.5673, 0.2679, 0.6508, 0.6920, 0.1999, 0.6130, 0.8124, 0.2352, 0.6502,\n",
       "        0.3599])"
      ]
     },
     "execution_count": 53,
     "metadata": {},
     "output_type": "execute_result"
    }
   ],
   "source": [
    "aa"
   ]
  },
  {
   "cell_type": "code",
   "execution_count": 54,
   "metadata": {},
   "outputs": [
    {
     "data": {
      "image/png": "[encoded data removed]",
      "text/plain": [
       "<Figure size 640x480 with 1 Axes>"
      ]
     },
     "metadata": {},
     "output_type": "display_data"
    }
   ],
   "source": [
    "_ = plt.hist(a)\n",
    "_= plt.hist(aa)"
   ]
  },
  {
   "cell_type": "code",
   "execution_count": 58,
   "metadata": {},
   "outputs": [],
   "source": [
    "def perceptron(x,W,b):\n",
    "    \"\"\"\n",
    "    A simple perceptron implementation\n",
    "    \"\"\"\n",
    "    z = torch.matmul(x, W) + b\n",
    "    y = torch.where(z>0, 1, 0)\n",
    "    return y"
   ]
  },
  {
   "cell_type": "code",
   "execution_count": null,
   "metadata": {},
   "outputs": [],
   "source": [
    "y = perceptron(x,W,b)"
   ]
  },
  {
   "cell_type": "code",
   "execution_count": 61,
   "metadata": {},
   "outputs": [
    {
     "data": {
      "image/png": "[encoded data removed]",
      "text/plain": [
       "<Figure size 640x480 with 1 Axes>"
      ]
     },
     "metadata": {},
     "output_type": "display_data"
    }
   ],
   "source": [
    "_=plt.hist(y)"
   ]
  }
 ],
 "metadata": {
  "kernelspec": {
   "display_name": "nlpunipi",
   "language": "python",
   "name": "python3"
  },
  "language_info": {
   "codemirror_mode": {
    "name": "ipython",
    "version": 3
   },
   "file_extension": ".py",
   "mimetype": "text/x-python",
   "name": "python",
   "nbconvert_exporter": "python",
   "pygments_lexer": "ipython3",
   "version": "3.10.16"
  }
 },
 "nbformat": 4,
 "nbformat_minor": 2
}
