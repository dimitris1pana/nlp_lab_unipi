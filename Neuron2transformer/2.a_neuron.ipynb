{
 "cells": [
  {
   "cell_type": "markdown",
   "metadata": {},
   "source": [
    "# Artificial Neuron Layer \n",
    "A layer of neurons performs:\n",
    "1. A linear transformation (matrix multiplication + bias)\n",
    "2.\tA non-linear transformation (activation function)\n",
    "\n",
    "Mathematically:\n",
    "$$\\mathbf{Z} = \\mathbf{W} \\cdot \\mathbf{X} + \\mathbf{b}\n",
    "\\quad \\Rightarrow \\quad\n",
    "\\hat{\\mathbf{Y}} = \\sigma(\\mathbf{Z})$$"
   ]
  },
  {
   "cell_type": "code",
   "execution_count": 1,
   "metadata": {},
   "outputs": [],
   "source": [
    "import torch \n",
    "import matplotlib.pyplot as plt"
   ]
  },
  {
   "cell_type": "code",
   "execution_count": 2,
   "metadata": {},
   "outputs": [
    {
     "data": {
      "text/plain": [
       "tensor([0.7976, 0.5984, 0.0717, 0.7774, 0.2830, 0.7736, 0.5406, 0.5218, 0.6979,\n",
       "        0.9429, 0.0956, 0.0841, 0.2910, 0.7871, 0.9510, 0.1539, 0.2066, 0.8796,\n",
       "        0.3151, 0.8253, 0.6651, 0.6387, 0.2008, 0.8564, 0.7553, 0.4736, 0.3030,\n",
       "        0.8900, 0.0815, 0.8413, 0.0312, 0.2962, 0.3248, 0.8344, 0.8596, 0.5735,\n",
       "        0.6911, 0.6150, 0.8314, 0.5278, 0.1767, 0.3034, 0.3234, 0.1508, 0.5494,\n",
       "        0.7102, 0.4429, 0.2097, 0.7182, 0.5065, 0.4976, 0.7617, 0.7906, 0.8984,\n",
       "        0.9892, 0.4546, 0.3235, 0.1786, 0.4698, 0.0495, 0.4467, 0.4344, 0.8985,\n",
       "        0.4443, 0.9918, 0.9537, 0.3968, 0.7884, 0.2246, 0.7695, 0.2986, 0.8409,\n",
       "        0.8450, 0.4754, 0.5229, 0.2799, 0.5270, 0.0783, 0.7094, 0.7556, 0.5807,\n",
       "        0.2579, 0.2940, 0.7430, 0.3702, 0.5821, 0.3409, 0.8107, 0.0395, 0.5584,\n",
       "        0.0794, 0.4155, 0.3140, 0.8186, 0.3985, 0.6903, 0.5481, 0.9109, 0.0462,\n",
       "        0.9615, 0.9124, 0.1754, 0.0356, 0.7791, 0.2222, 0.0740, 0.5942, 0.4006,\n",
       "        0.7933, 0.7079, 0.9680, 0.4916, 0.2760, 0.9189, 0.0234, 0.5300, 0.0949,\n",
       "        0.4437, 0.8420, 0.1805, 0.0223, 0.8976, 0.0623, 0.8267, 0.1768, 0.3348,\n",
       "        0.9873, 0.6015, 0.3914, 0.3356, 0.8078, 0.8607, 0.6884, 0.6729, 0.1785,\n",
       "        0.8514, 0.9683, 0.1931, 0.7522, 0.0885, 0.9792, 0.4163, 0.2057, 0.3421,\n",
       "        0.2697, 0.1066, 0.6588, 0.9040, 0.0160, 0.1774, 0.1153, 0.7771, 0.0461,\n",
       "        0.9707, 0.2582, 0.4501, 0.3430, 0.7674, 0.9007, 0.6535, 0.4912, 0.9901,\n",
       "        0.8759, 0.3617, 0.2980, 0.9147, 0.5169, 0.8319, 0.9848, 0.8637, 0.5737,\n",
       "        0.6256, 0.6167, 0.6302, 0.1919, 0.6968, 0.8349, 0.4146, 0.3893, 0.9539,\n",
       "        0.3815, 0.6516, 0.2499, 0.1218, 0.1514, 0.7656, 0.4874, 0.6415, 0.6204,\n",
       "        0.9500, 0.5631, 0.7675, 0.4328, 0.3602, 0.1582, 0.9806, 0.6301, 0.7906,\n",
       "        0.2376, 0.8526, 0.3505, 0.9172, 0.5437, 0.0082, 0.2088, 0.3084, 0.7832,\n",
       "        0.6776, 0.4676, 0.3358, 0.9654, 0.5595, 0.1562, 0.5666, 0.5603, 0.4208,\n",
       "        0.1665, 0.1955, 0.7184, 0.8375, 0.1861, 0.2670, 0.4109, 0.8493, 0.9511,\n",
       "        0.2938, 0.0209, 0.0405, 0.3475, 0.8183, 0.4851, 0.8464, 0.3744, 0.9545,\n",
       "        0.7825, 0.2567, 0.6789, 0.1351, 0.1243, 0.1082, 0.6536, 0.9007, 0.8553,\n",
       "        0.4191, 0.2316, 0.8819, 0.3103, 0.8701, 0.6597, 0.3446, 0.7104, 0.4980,\n",
       "        0.8524, 0.2480, 0.7342, 0.1470, 0.6854, 0.4053, 0.3933, 0.1277, 0.0832,\n",
       "        0.2609, 0.8604, 0.3605, 0.6237, 0.2619, 0.3938, 0.2801, 0.5112, 0.3458,\n",
       "        0.3163, 0.2137, 0.1662, 0.4902, 0.6638, 0.1742, 0.8964, 0.7565, 0.5269,\n",
       "        0.2746, 0.5170, 0.0065, 0.7984, 0.7353, 0.2372, 0.6606, 0.7593, 0.0795,\n",
       "        0.7845, 0.3942, 0.3297, 0.0890, 0.2928, 0.4173, 0.1262, 0.0524, 0.3592,\n",
       "        0.2069, 0.2289, 0.5809, 0.1712, 0.4041, 0.8448, 0.0952, 0.9751, 0.0896,\n",
       "        0.3128, 0.6969, 0.7013, 0.0780, 0.8898, 0.2939, 0.8104, 0.4333, 0.1639,\n",
       "        0.3234, 0.1662, 0.2473, 0.8118, 0.1947, 0.1169, 0.2002, 0.1416, 0.0157,\n",
       "        0.4552, 0.2629, 0.0822, 0.3048, 0.0856, 0.4913, 0.6908, 0.1437, 0.8760,\n",
       "        0.7610, 0.6418, 0.2448, 0.8875, 0.9988, 0.5417, 0.2572, 0.8467, 0.5796,\n",
       "        0.8155, 0.4151, 0.3342, 0.4435, 0.7513, 0.9698, 0.5316, 0.8497, 0.3786,\n",
       "        0.0935, 0.1320, 0.7503, 0.9605, 0.5022, 0.3514, 0.5990, 0.1103, 0.9132,\n",
       "        0.7555, 0.7460, 0.9656, 0.2359, 0.2782, 0.6836, 0.1734, 0.3174, 0.3167,\n",
       "        0.0565, 0.9054, 0.8910, 0.4128, 0.4486, 0.4969, 0.9124, 0.6820, 0.8003,\n",
       "        0.2128, 0.7849, 0.7415, 0.8051, 0.0822, 0.4399, 0.5047, 0.6066, 0.9036,\n",
       "        0.9200, 0.4019, 0.4129, 0.4134, 0.3294, 0.1455, 0.0089, 0.4915, 0.5156,\n",
       "        0.6039, 0.2220, 0.8289, 0.5256, 0.1994, 0.6646, 0.7998, 0.6736, 0.2435,\n",
       "        0.5292, 0.6465, 0.1274, 0.9883, 0.9852, 0.3991, 0.8531, 0.4845, 0.8619,\n",
       "        0.9751, 0.0871, 0.1475, 0.3889, 0.4044, 0.6418, 0.9623, 0.9758, 0.0039,\n",
       "        0.4022, 0.5260, 0.1896, 0.5137, 0.7931, 0.5678, 0.4320, 0.1043, 0.4250,\n",
       "        0.0277, 0.2410, 0.5008, 0.5757, 0.7721, 0.9655, 0.0240, 0.5837, 0.2352,\n",
       "        0.3038, 0.1447, 0.6699, 0.6627, 0.4852, 0.3638, 0.0025, 0.4228, 0.1605,\n",
       "        0.6139, 0.4162, 0.6195, 0.1907, 0.8274, 0.2754, 0.2491, 0.9063, 0.9061,\n",
       "        0.6971, 0.2156, 0.9342, 0.7709, 0.5944, 0.9443, 0.0766, 0.8630, 0.4654,\n",
       "        0.3779, 0.9046, 0.0273, 0.5801, 0.6128, 0.9711, 0.8535, 0.9985, 0.0577,\n",
       "        0.4951, 0.3703, 0.4762, 0.3610, 0.1995, 0.5207, 0.3169, 0.4301, 0.4463,\n",
       "        0.1812, 0.9175, 0.0124, 0.7259, 0.2888, 0.2106, 0.6940, 0.6732, 0.1328,\n",
       "        0.7192, 0.2238, 0.6324, 0.0960, 0.1189, 0.7424, 0.4126, 0.0319, 0.5003,\n",
       "        0.4999, 0.0176, 0.3533, 0.1375, 0.3578, 0.7813, 0.2478, 0.0456, 0.8987,\n",
       "        0.7313, 0.2431, 0.3270, 0.2379, 0.6960, 0.1624, 0.6380, 0.2754, 0.8736,\n",
       "        0.3161, 0.7295, 0.2767, 0.9768, 0.0164, 0.8954, 0.9109, 0.5605, 0.3489,\n",
       "        0.2498, 0.6384, 0.2225, 0.4564, 0.9516, 0.6143, 0.0365, 0.5641, 0.2283,\n",
       "        0.6186, 0.4287, 0.1381, 0.9881, 0.5536, 0.5039, 0.6322, 0.8560, 0.6184,\n",
       "        0.0294, 0.4273, 0.7490, 0.6605, 0.8595, 0.6523, 0.9137, 0.2791, 0.8728,\n",
       "        0.9352, 0.1870, 0.2189, 0.6820, 0.3572, 0.8935, 0.7210, 0.9427, 0.1983,\n",
       "        0.9497, 0.3643, 0.8197, 0.2123, 0.6739, 0.5655, 0.9243, 0.6163, 0.4600,\n",
       "        0.0956, 0.1482, 0.6053, 0.4365, 0.2837, 0.7298, 0.5966, 0.9476, 0.3560,\n",
       "        0.3530, 0.2140, 0.5618, 0.8811, 0.9143, 0.2328, 0.6838, 0.7920, 0.0695,\n",
       "        0.4613, 0.3221, 0.6299, 0.4602, 0.0068, 0.5964, 0.0315, 0.7279, 0.3213,\n",
       "        0.5413, 0.8273, 0.0664, 0.8988, 0.2639, 0.5570, 0.2312, 0.0522, 0.2333,\n",
       "        0.7709, 0.2653, 0.1511, 0.9160, 0.5791, 0.5219, 0.9409, 0.0979, 0.6479,\n",
       "        0.6358, 0.1019, 0.1527, 0.6849, 0.2861, 0.8552, 0.9273, 0.1283, 0.4661,\n",
       "        0.1130, 0.4528, 0.5089, 0.8631, 0.5535, 0.2750, 0.0169, 0.9376, 0.9904,\n",
       "        0.1420, 0.7485, 0.9642, 0.6752, 0.6531, 0.7269, 0.8396, 0.2959, 0.2933,\n",
       "        0.2726, 0.2295, 0.1939, 0.6401, 0.8193, 0.4144, 0.2513, 0.4250, 0.9348,\n",
       "        0.6426, 0.2284, 0.5632, 0.3633, 0.3842, 0.2411, 0.9883, 0.1596, 0.9416,\n",
       "        0.1527, 0.8625, 0.7303, 0.5256, 0.1847, 0.5448, 0.8887, 0.4272, 0.6782,\n",
       "        0.5002, 0.8940, 0.7734, 0.9399, 0.0668, 0.4480, 0.3689, 0.6979, 0.8907,\n",
       "        0.7772, 0.1926, 0.1844, 0.9687, 0.9020, 0.9069, 0.8719, 0.9422, 0.8866,\n",
       "        0.6282, 0.4820, 0.6698, 0.9548, 0.0293, 0.6281, 0.9356, 0.9993, 0.8993,\n",
       "        0.6024, 0.5396, 0.9782, 0.1019, 0.9461, 0.5722, 0.7316, 0.2091, 0.1425,\n",
       "        0.3607, 0.3146, 0.7490, 0.7577, 0.1978, 0.2413, 0.2987, 0.6629, 0.4077,\n",
       "        0.0672, 0.9033, 0.8255, 0.9648, 0.8659, 0.6374, 0.6297, 0.9456, 0.5473,\n",
       "        0.3313, 0.3488, 0.5549, 0.8454, 0.7680, 0.5162, 0.4489, 0.8038, 0.9795,\n",
       "        0.1018, 0.2317, 0.9281, 0.5775, 0.4854, 0.9174, 0.8933, 0.1828, 0.3743,\n",
       "        0.7969, 0.7369, 0.4837, 0.5500, 0.4088, 0.5916, 0.4537, 0.1339, 0.2572,\n",
       "        0.7435, 0.6996, 0.1545, 0.3363, 0.2882, 0.9279, 0.2323, 0.1979, 0.0757,\n",
       "        0.2523, 0.9187, 0.1328, 0.0379, 0.1736, 0.6975, 0.8156, 0.8369, 0.9156,\n",
       "        0.5386, 0.1507, 0.1894, 0.2028, 0.8720, 0.7119, 0.3622, 0.2789, 0.5442,\n",
       "        0.2084, 0.5219, 0.4633, 0.9224, 0.1522, 0.3516, 0.8468, 0.2121, 0.2749,\n",
       "        0.2221, 0.4936, 0.0068, 0.7116, 0.6658, 0.6448, 0.4520, 0.3277, 0.5387,\n",
       "        0.9283, 0.6193, 0.0976, 0.1416, 0.1841, 0.6996, 0.2971, 0.6453, 0.7805,\n",
       "        0.4425, 0.0481, 0.3936, 0.2879, 0.5122, 0.0288, 0.4680, 0.4703, 0.4073,\n",
       "        0.9127, 0.1570, 0.4583, 0.0608, 0.1454, 0.3649, 0.5570, 0.6943, 0.0012,\n",
       "        0.3784, 0.0704, 0.9200, 0.2592, 0.8407, 0.9140, 0.0138, 0.5760, 0.8822,\n",
       "        0.6112, 0.9816, 0.1587, 0.6890, 0.1064, 0.6745, 0.4408, 0.9875, 0.2533,\n",
       "        0.8222, 0.8737, 0.5100, 0.9848, 0.5574, 0.7630, 0.8731, 0.2160, 0.5840,\n",
       "        0.1283, 0.3560, 0.8021, 0.0406, 0.4154, 0.1078, 0.5972, 0.0307, 0.9074,\n",
       "        0.1293, 0.4865, 0.2434, 0.2657, 0.5439, 0.8944, 0.5475, 0.1123, 0.5705,\n",
       "        0.9619, 0.2638, 0.0958, 0.3591, 0.0385, 0.7328, 0.4206, 0.3213, 0.2180,\n",
       "        0.0857, 0.2160, 0.1368, 0.0594, 0.7911, 0.8883, 0.5252, 0.9498, 0.4284,\n",
       "        0.1261, 0.0522, 0.9315, 0.3513, 0.4758, 0.9999, 0.2554, 0.0779, 0.5797,\n",
       "        0.5653, 0.1496, 0.4640, 0.0288, 0.4570, 0.5956, 0.4307, 0.5980, 0.6456,\n",
       "        0.0644, 0.4236, 0.4912, 0.9389, 0.8631, 0.5928, 0.4216, 0.3437, 0.2153,\n",
       "        0.9766, 0.2197, 0.0699, 0.0979, 0.6571, 0.7062, 0.8011, 0.2172, 0.1274,\n",
       "        0.9492, 0.7624, 0.9850, 0.6652, 0.0155, 0.6999, 0.1181, 0.5424, 0.9967,\n",
       "        0.7101, 0.7329, 0.9314, 0.0495, 0.2146, 0.2445, 0.3147, 0.4669, 0.9847,\n",
       "        0.2205, 0.6631, 0.9878, 0.6116, 0.2861, 0.9218, 0.4093, 0.9600, 0.4763,\n",
       "        0.9837, 0.8329, 0.4929, 0.0815, 0.4731, 0.2817, 0.8586, 0.2546, 0.3534,\n",
       "        0.7411, 0.6340, 0.3625, 0.8090, 0.8866, 0.0612, 0.0763, 0.3586, 0.3711,\n",
       "        0.0900, 0.7100, 0.4152, 0.4388, 0.3620, 0.9216, 0.0344, 0.9288, 0.5676,\n",
       "        0.5855, 0.9305, 0.0798, 0.2090, 0.8957, 0.4960, 0.6162, 0.2772, 0.7206,\n",
       "        0.7590, 0.7517, 0.7445, 0.2440, 0.4557, 0.6456, 0.5726, 0.0351, 0.4999,\n",
       "        0.9438])"
      ]
     },
     "execution_count": 2,
     "metadata": {},
     "output_type": "execute_result"
    }
   ],
   "source": [
    "# Neuron setup \n",
    "n_input = 1000 \n",
    "n_neurons = 100\n",
    "# simuluting the input x transform \n",
    "x= torch.rand(n_input)\n",
    "x"
   ]
  },
  {
   "cell_type": "code",
   "execution_count": 3,
   "metadata": {},
   "outputs": [
    {
     "data": {
      "text/plain": [
       "tensor([0., 0., 0., 0., 0., 0., 0., 0., 0., 0., 0., 0., 0., 0., 0., 0., 0., 0., 0., 0., 0., 0., 0., 0.,\n",
       "        0., 0., 0., 0., 0., 0., 0., 0., 0., 0., 0., 0., 0., 0., 0., 0., 0., 0., 0., 0., 0., 0., 0., 0.,\n",
       "        0., 0., 0., 0., 0., 0., 0., 0., 0., 0., 0., 0., 0., 0., 0., 0., 0., 0., 0., 0., 0., 0., 0., 0.,\n",
       "        0., 0., 0., 0., 0., 0., 0., 0., 0., 0., 0., 0., 0., 0., 0., 0., 0., 0., 0., 0., 0., 0., 0., 0.,\n",
       "        0., 0., 0., 0.])"
      ]
     },
     "execution_count": 3,
     "metadata": {},
     "output_type": "execute_result"
    }
   ],
   "source": [
    "b= torch.zeros(n_neurons)\n",
    "b.shape\n",
    "b"
   ]
  },
  {
   "cell_type": "code",
   "execution_count": 4,
   "metadata": {},
   "outputs": [
    {
     "data": {
      "text/plain": [
       "torch.Size([1000])"
      ]
     },
     "execution_count": 4,
     "metadata": {},
     "output_type": "execute_result"
    }
   ],
   "source": [
    "x.shape"
   ]
  },
  {
   "cell_type": "code",
   "execution_count": 5,
   "metadata": {},
   "outputs": [
    {
     "data": {
      "text/plain": [
       "tensor([0.7976, 0.5984, 0.0717, 0.7774, 0.2830, 0.7736, 0.5406, 0.5218, 0.6979,\n",
       "        0.9429, 0.0956, 0.0841, 0.2910, 0.7871, 0.9510, 0.1539, 0.2066, 0.8796,\n",
       "        0.3151, 0.8253, 0.6651, 0.6387, 0.2008, 0.8564, 0.7553, 0.4736, 0.3030,\n",
       "        0.8900, 0.0815, 0.8413, 0.0312, 0.2962, 0.3248, 0.8344, 0.8596, 0.5735,\n",
       "        0.6911, 0.6150, 0.8314, 0.5278, 0.1767, 0.3034, 0.3234, 0.1508, 0.5494,\n",
       "        0.7102, 0.4429, 0.2097, 0.7182, 0.5065, 0.4976, 0.7617, 0.7906, 0.8984,\n",
       "        0.9892, 0.4546, 0.3235, 0.1786, 0.4698, 0.0495, 0.4467, 0.4344, 0.8985,\n",
       "        0.4443, 0.9918, 0.9537, 0.3968, 0.7884, 0.2246, 0.7695, 0.2986, 0.8409,\n",
       "        0.8450, 0.4754, 0.5229, 0.2799, 0.5270, 0.0783, 0.7094, 0.7556, 0.5807,\n",
       "        0.2579, 0.2940, 0.7430, 0.3702, 0.5821, 0.3409, 0.8107, 0.0395, 0.5584,\n",
       "        0.0794, 0.4155, 0.3140, 0.8186, 0.3985, 0.6903, 0.5481, 0.9109, 0.0462,\n",
       "        0.9615])"
      ]
     },
     "execution_count": 5,
     "metadata": {},
     "output_type": "execute_result"
    }
   ],
   "source": [
    "x[0:100]"
   ]
  },
  {
   "cell_type": "code",
   "execution_count": 6,
   "metadata": {},
   "outputs": [
    {
     "data": {
      "image/png": "[encoded data removed]",
      "text/plain": [
       "<Figure size 640x480 with 1 Axes>"
      ]
     },
     "metadata": {},
     "output_type": "display_data"
    }
   ],
   "source": [
    "_= plt.hist(x)"
   ]
  },
  {
   "cell_type": "code",
   "execution_count": 7,
   "metadata": {},
   "outputs": [],
   "source": [
    "# Randomizing weights \n",
    "W= torch.empty([n_input, n_neurons])\n",
    "W =torch.nn.init.xavier_normal_(W)\n"
   ]
  },
  {
   "cell_type": "code",
   "execution_count": 8,
   "metadata": {},
   "outputs": [
    {
     "name": "stdout",
     "output_type": "stream",
     "text": [
      "torch.Size([1000]) torch.Size([1000, 100])\n"
     ]
    }
   ],
   "source": [
    "print(x.shape, W.shape)"
   ]
  },
  {
   "cell_type": "code",
   "execution_count": 9,
   "metadata": {},
   "outputs": [],
   "source": [
    "from numpy import transpose\n",
    "W_t = transpose(W)\n",
    "x_w = torch.mul(x, W_t)\n",
    "\n"
   ]
  },
  {
   "cell_type": "code",
   "execution_count": 10,
   "metadata": {},
   "outputs": [
    {
     "data": {
      "text/plain": [
       "tensor([[-0.0036,  0.0303, -0.0066,  ..., -0.0001,  0.0387,  0.0883],\n",
       "        [ 0.0296, -0.0072, -0.0017,  ..., -0.0002, -0.0366,  0.0164],\n",
       "        [ 0.0232,  0.0194, -0.0007,  ..., -0.0003,  0.0106,  0.0021],\n",
       "        ...,\n",
       "        [-0.0451,  0.0206, -0.0019,  ...,  0.0009, -0.0181, -0.0136],\n",
       "        [ 0.0259,  0.0502,  0.0024,  ...,  0.0022, -0.0301, -0.0157],\n",
       "        [ 0.0123, -0.0116, -0.0030,  ..., -0.0009,  0.0014, -0.0372]])"
      ]
     },
     "execution_count": 10,
     "metadata": {},
     "output_type": "execute_result"
    }
   ],
   "source": [
    "x_w"
   ]
  },
  {
   "cell_type": "code",
   "execution_count": 11,
   "metadata": {},
   "outputs": [
    {
     "name": "stdout",
     "output_type": "stream",
     "text": [
      "torch.Size([1000])\n",
      "torch.Size([1000, 100])\n"
     ]
    }
   ],
   "source": [
    "print(x.shape)\n",
    "print(W.shape)\n",
    "z =torch.matmul(x, W)+b"
   ]
  },
  {
   "cell_type": "code",
   "execution_count": 12,
   "metadata": {},
   "outputs": [
    {
     "data": {
      "text/plain": [
       "torch.Size([100])"
      ]
     },
     "execution_count": 12,
     "metadata": {},
     "output_type": "execute_result"
    }
   ],
   "source": [
    "z\n",
    "z.shape"
   ]
  },
  {
   "cell_type": "code",
   "execution_count": 13,
   "metadata": {},
   "outputs": [],
   "source": [
    "a = torch.tanh(z)\n"
   ]
  },
  {
   "cell_type": "code",
   "execution_count": 14,
   "metadata": {},
   "outputs": [],
   "source": [
    "aa = torch.sigmoid(z)"
   ]
  },
  {
   "cell_type": "code",
   "execution_count": 15,
   "metadata": {},
   "outputs": [
    {
     "data": {
      "text/plain": [
       "tensor([-0.8691, -0.5619, -0.5304, -0.0309,  0.5658, -0.2712, -0.9423,  0.7631,\n",
       "        -0.7300,  0.7496, -0.4363,  0.6479, -0.3483, -0.1493, -0.9178,  0.5009,\n",
       "         0.5605, -0.7518, -0.7407,  0.0981, -0.1961, -0.5067, -0.4454,  0.4543,\n",
       "        -0.8497, -0.0361, -0.3228, -0.0878, -0.3119,  0.3923,  0.3665, -0.1866,\n",
       "         0.7428, -0.5494,  0.5946, -0.2166,  0.4367,  0.3961, -0.7313, -0.4238,\n",
       "         0.0038, -0.0228, -0.9025, -0.8043,  0.9577, -0.5553, -0.0703, -0.0323,\n",
       "         0.6475, -0.8795,  0.6134, -0.5029,  0.8773, -0.8338, -0.4741,  0.0174,\n",
       "         0.9343, -0.9493, -0.2196,  0.5214, -0.3004,  0.6853,  0.8661,  0.0887,\n",
       "         0.5297, -0.5130, -0.2246, -0.8515, -0.7270,  0.7436,  0.7717, -0.0612,\n",
       "        -0.1908, -0.7335, -0.2463, -0.5523, -0.4277,  0.2531, -0.7911, -0.1536,\n",
       "        -0.2037,  0.7489,  0.8247, -0.3653, -0.7760, -0.0763,  0.0258, -0.6885,\n",
       "         0.6240, -0.8054,  0.9938,  0.2349,  0.9215, -0.8488, -0.9347, -0.1377,\n",
       "        -0.6473,  0.4279, -0.3054,  0.8690])"
      ]
     },
     "execution_count": 15,
     "metadata": {},
     "output_type": "execute_result"
    }
   ],
   "source": [
    "a"
   ]
  },
  {
   "cell_type": "code",
   "execution_count": 16,
   "metadata": {},
   "outputs": [
    {
     "data": {
      "text/plain": [
       "tensor([0.2093, 0.3463, 0.3565, 0.4923, 0.6551, 0.4309, 0.1471, 0.7318, 0.2832,\n",
       "        0.7255, 0.3852, 0.6839, 0.4101, 0.4625, 0.1715, 0.6343, 0.6533, 0.2735,\n",
       "        0.2785, 0.5246, 0.4505, 0.3639, 0.3825, 0.6201, 0.2218, 0.4910, 0.4171,\n",
       "        0.4780, 0.4200, 0.6022, 0.5949, 0.4529, 0.7225, 0.3503, 0.6648, 0.4452,\n",
       "        0.6150, 0.6033, 0.2826, 0.3888, 0.5010, 0.4943, 0.1846, 0.2477, 0.8719,\n",
       "        0.3484, 0.4824, 0.4919, 0.6837, 0.2020, 0.6714, 0.3651, 0.7964, 0.2314,\n",
       "        0.3739, 0.5044, 0.8444, 0.1389, 0.4444, 0.6407, 0.4231, 0.6983, 0.7887,\n",
       "        0.5222, 0.6433, 0.3620, 0.4431, 0.2207, 0.2845, 0.7228, 0.7359, 0.4847,\n",
       "        0.4519, 0.2817, 0.4375, 0.3494, 0.3877, 0.5643, 0.2546, 0.4614, 0.4485,\n",
       "        0.7252, 0.7634, 0.4054, 0.2621, 0.4809, 0.5064, 0.3005, 0.6752, 0.2472,\n",
       "        0.9472, 0.5596, 0.8319, 0.2224, 0.1552, 0.4654, 0.3164, 0.6124, 0.4218,\n",
       "        0.7907])"
      ]
     },
     "execution_count": 16,
     "metadata": {},
     "output_type": "execute_result"
    }
   ],
   "source": [
    "aa"
   ]
  },
  {
   "cell_type": "code",
   "execution_count": 17,
   "metadata": {},
   "outputs": [
    {
     "data": {
      "image/png": "[encoded data removed]",
      "text/plain": [
       "<Figure size 640x480 with 1 Axes>"
      ]
     },
     "metadata": {},
     "output_type": "display_data"
    }
   ],
   "source": [
    "_ = plt.hist(a)\n",
    "_= plt.hist(aa)"
   ]
  },
  {
   "cell_type": "code",
   "execution_count": 18,
   "metadata": {},
   "outputs": [],
   "source": [
    "def perceptron(x,W,b):\n",
    "    \"\"\"\n",
    "    A simple perceptron implementation\n",
    "    \"\"\"\n",
    "    z = torch.matmul(x, W) + b\n",
    "    y = torch.where(z>0, 1, 0)\n",
    "    return y"
   ]
  },
  {
   "cell_type": "code",
   "execution_count": 19,
   "metadata": {},
   "outputs": [],
   "source": [
    "y = perceptron(x,W,b)"
   ]
  },
  {
   "cell_type": "code",
   "execution_count": 20,
   "metadata": {},
   "outputs": [
    {
     "data": {
      "image/png": "[encoded data removed]",
      "text/plain": [
       "<Figure size 640x480 with 1 Axes>"
      ]
     },
     "metadata": {},
     "output_type": "display_data"
    }
   ],
   "source": [
    "_=plt.hist(y)"
   ]
  }
 ],
 "metadata": {
  "kernelspec": {
   "display_name": "nlpunipi",
   "language": "python",
   "name": "python3"
  },
  "language_info": {
   "codemirror_mode": {
    "name": "ipython",
    "version": 3
   },
   "file_extension": ".py",
   "mimetype": "text/x-python",
   "name": "python",
   "nbconvert_exporter": "python",
   "pygments_lexer": "ipython3",
   "version": "3.10.16"
  }
 },
 "nbformat": 4,
 "nbformat_minor": 2
}
