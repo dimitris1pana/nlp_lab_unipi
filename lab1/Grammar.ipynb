{
 "cells": [
  {
   "cell_type": "code",
   "execution_count": 10,
   "metadata": {},
   "outputs": [
    {
     "name": "stdout",
     "output_type": "stream",
     "text": [
      "['This', 'is', 'a', 'test']\n"
     ]
    }
   ],
   "source": [
    "import re\n",
    "\n",
    "# simple regular expression\n",
    "pattern =r\"\\b\\w+\\b\" \n",
    "text = \"This is a test\"\n",
    "tokens = re.findall(pattern, text)\n",
    "print(tokens)"
   ]
  },
  {
   "cell_type": "code",
   "execution_count": 11,
   "metadata": {},
   "outputs": [],
   "source": [
    "def fsa_token_recongizer(word):\n",
    "    state= 0\n",
    "    for char in word: \n",
    "        if state ==0 and char.isalpha(): # non alphabetic character\n",
    "            state = 1\n",
    "            print(char, \"state 1, ie correct\")\n",
    "        elif state ==1 and char.isalpha(): # alphabetic character\n",
    "            state = 1 \n",
    "            print(char, \"state 1, again correct\")\n",
    "        else: \n",
    "            print(char, \"state 0, incorrect\")\n",
    "    return state==1"
   ]
  },
  {
   "cell_type": "code",
   "execution_count": 12,
   "metadata": {},
   "outputs": [
    {
     "name": "stdout",
     "output_type": "stream",
     "text": [
      "t state 1, ie correct\n",
      "e state 1, again correct\n",
      "s state 1, again correct\n",
      "t state 1, again correct\n"
     ]
    },
    {
     "data": {
      "text/plain": [
       "True"
      ]
     },
     "execution_count": 12,
     "metadata": {},
     "output_type": "execute_result"
    }
   ],
   "source": [
    "fsa_token_recongizer(\"test\")"
   ]
  },
  {
   "cell_type": "code",
   "execution_count": 16,
   "metadata": {},
   "outputs": [
    {
     "name": "stdout",
     "output_type": "stream",
     "text": [
      "              S                     \n",
      "      ________|_________             \n",
      "     |                  VP          \n",
      "     |         _________|____        \n",
      "     NP       |              NP     \n",
      "  ___|___     |      ________|____   \n",
      "Det Adj  N    V    Det      Adj   N \n",
      " |   |   |    |     |        |    |  \n",
      "the big cat chases  a      small dog\n",
      "\n"
     ]
    }
   ],
   "source": [
    "import nltk\n",
    "# simple Context free grammar \n",
    "grammar = nltk.CFG.fromstring(\"\"\"\n",
    " S -> NP VP\n",
    "    NP -> Det N | Det Adj N\n",
    "    VP -> V NP | V\n",
    "    Det -> 'the' | 'a'\n",
    "    Adj -> 'big' | 'small'\n",
    "    N -> 'cat' | 'dog'\n",
    "    V -> 'chases' | 'sleeps'\n",
    "\"\"\")\n",
    "\n",
    "parser = nltk.ChartParser(grammar)\n",
    "\n",
    "sentence = [\"the\", \"big\", \"cat\", \"chases\", \"a\", \"small\", \"dog\"]\n",
    "\n",
    "for tree in parser.parse(sentence):\n",
    "    tree.pretty_print()\n",
    "\n"
   ]
  },
  {
   "cell_type": "code",
   "execution_count": 18,
   "metadata": {},
   "outputs": [
    {
     "name": "stdout",
     "output_type": "stream",
     "text": [
      "Original treebank sentence: \n",
      "Pierre Vinken , 61 years old , will join the board as a nonexecutive director Nov. 29 .\n",
      "                                                     S                                                                         \n",
      "                         ____________________________|_______________________________________________________________________   \n",
      "                        |                                               VP                                                   | \n",
      "                        |                        _______________________|___                                                 |  \n",
      "                      NP-SBJ                    |                           VP                                               | \n",
      "         _______________|___________________    |     ______________________|______________________________________          |  \n",
      "        |          |              ADJP      |   |    |        |                PP-CLR                              |         | \n",
      "        |          |           ____|____    |   |    |        |          ________|_________                        |         |  \n",
      "        NP         |          NP        |   |   |    |        NP        |                  NP                    NP-TMP      | \n",
      "   _____|____      |     _____|____     |   |   |    |     ___|____     |    ______________|__________        _____|_____    |  \n",
      " NNP        NNP    ,    CD        NNS   JJ  ,   MD   VB   DT       NN   IN  DT             JJ         NN    NNP          CD  . \n",
      "  |          |     |    |          |    |   |   |    |    |        |    |   |              |          |      |           |   |  \n",
      "Pierre     Vinken  ,    61       years old  ,  will join the     board  as  a         nonexecutive director Nov.         29  . \n",
      "\n",
      "\n",
      " first sentencens from treebank: \n",
      "Pierre Vinken , 61 years old , will join the board as a nonexecutive director Nov. 29 .\n",
      "Mr. Vinken is chairman of Elsevier N.V. , the Dutch publishing group .\n",
      "Rudolph Agnew , 55 years old and former chairman of Consolidated Gold Fields PLC , was named *-1 a nonexecutive director of this British industrial conglomerate .\n",
      "A form of asbestos once used * * to make Kent cigarette filters has caused a high percentage of cancer deaths among a group of workers exposed * to it more than 30 years ago , researchers reported 0 *T*-1 .\n",
      "The asbestos fiber , crocidolite , is unusually resilient once it enters the lungs , with even brief exposures to it causing symptoms that *T*-1 show up decades later , researchers said 0 *T*-2 .\n"
     ]
    },
    {
     "name": "stderr",
     "output_type": "stream",
     "text": [
      "[nltk_data] Downloading package treebank to\n",
      "[nltk_data]     /Users/dimtriospanagoulias/nltk_data...\n",
      "[nltk_data]   Package treebank is already up-to-date!\n"
     ]
    }
   ],
   "source": [
    "from nltk.corpus import treebank\n",
    "nltk.download('treebank')\n",
    "\n",
    "t = treebank.parsed_sents()[0]\n",
    "print(\"Original treebank sentence: \")\n",
    "print(\" \".join(t.leaves()))\n",
    "t.pretty_print()\n",
    "print(\"\\n first sentencens from treebank: \")\n",
    "for sent in treebank.sents()[:5]:\n",
    "    print(\" \".join(sent))"
   ]
  },
  {
   "cell_type": "code",
   "execution_count": 22,
   "metadata": {},
   "outputs": [
    {
     "name": "stdout",
     "output_type": "stream",
     "text": [
      "\n",
      "using nltk CFG parser:the big cat chases a small dog\n",
      "              S                     \n",
      "      ________|_________             \n",
      "     |                  VP          \n",
      "     |         _________|____        \n",
      "     NP       |              NP     \n",
      "  ___|___     |      ________|____   \n",
      "Det Adj  N    V    Det      Adj   N \n",
      " |   |   |    |     |        |    |  \n",
      "the big cat chases  a      small dog\n",
      "\n",
      "\n",
      "using nltk CFG parser:the dog sleeps\n",
      "         S        \n",
      "      ___|____     \n",
      "     NP       VP  \n",
      "  ___|___     |    \n",
      "Det      N    V   \n",
      " |       |    |    \n",
      "the     dog sleeps\n",
      "\n",
      "\n",
      "using nltk CFG parser:the horse runs\n",
      "No parse tree found\n"
     ]
    }
   ],
   "source": [
    "test_sentences= [\n",
    "    [\"the\", \"big\", \"cat\", \"chases\", \"a\", \"small\", \"dog\"],\n",
    "    [\"the\", \"dog\", \"sleeps\"],\n",
    "    [\"the\", \"horse\", \"runs\"]   \n",
    "]\n",
    "\n",
    "for sent in test_sentences:\n",
    "    print(f\"\\nusing nltk CFG parser:{' '.join(sent)}\")\n",
    "    try:\n",
    "        for tree in parser.parse(sent):\n",
    "            tree.pretty_print()\n",
    "    except ValueError:\n",
    "        print(\"No parse tree found\")"
   ]
  },
  {
   "cell_type": "code",
   "execution_count": null,
   "metadata": {},
   "outputs": [],
   "source": []
  }
 ],
 "metadata": {
  "kernelspec": {
   "display_name": "nlpunipi",
   "language": "python",
   "name": "python3"
  },
  "language_info": {
   "codemirror_mode": {
    "name": "ipython",
    "version": 3
   },
   "file_extension": ".py",
   "mimetype": "text/x-python",
   "name": "python",
   "nbconvert_exporter": "python",
   "pygments_lexer": "ipython3",
   "version": "3.10.16"
  }
 },
 "nbformat": 4,
 "nbformat_minor": 2
}
