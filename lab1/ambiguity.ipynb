{
 "cells": [
  {
   "cell_type": "code",
   "execution_count": 7,
   "metadata": {},
   "outputs": [],
   "source": [
    "import nltk \n",
    "from nltk import Tree"
   ]
  },
  {
   "cell_type": "code",
   "execution_count": 8,
   "metadata": {},
   "outputs": [],
   "source": [
    "def tokenize(sentence):\n",
    "    \"\"\"\n",
    "    Tokenize a sentence\n",
    "    \"\"\"\n",
    "    return sentence.split()"
   ]
  },
  {
   "cell_type": "code",
   "execution_count": 9,
   "metadata": {},
   "outputs": [],
   "source": [
    "def build_parse_tree(tokens):\n",
    "    \"\"\"Simple syntax tree manually defined\"\"\"\n",
    "    if not tokens:\n",
    "        return None\n",
    "    if len(tokens) == 1:\n",
    "        return Tree(tokens[0], [])\n",
    "    root_index = len(tokens) // 2\n",
    "    root = tokens[root_index]\n",
    "    lef_subtree = build_parse_tree(tokens[:root_index])\n",
    "    right_subtree = build_parse_tree(tokens[root_index + 1:])\n",
    "    children = [child for child in [lef_subtree, right_subtree] if child is not None]\n",
    "    return Tree(root, children)\n"
   ]
  },
  {
   "cell_type": "code",
   "execution_count": 10,
   "metadata": {},
   "outputs": [
    {
     "name": "stdout",
     "output_type": "stream",
     "text": [
      "['The', 'quick', 'brown', 'fox', 'jumps', 'over', 'the', 'lazy', 'dog']\n"
     ]
    }
   ],
   "source": [
    "sentence = \"The quick brown fox jumps over the lazy dog\" \n",
    "tokens = tokenize(sentence)\n",
    "print(tokens)"
   ]
  },
  {
   "cell_type": "code",
   "execution_count": 11,
   "metadata": {},
   "outputs": [
    {
     "name": "stdout",
     "output_type": "stream",
     "text": [
      "The manual syntax tree\n",
      "                jumps              \n",
      "         _________|_________        \n",
      "      brown                lazy    \n",
      "   _____|____           ____|____   \n",
      "quick        |        the        | \n",
      "  |          |         |         |  \n",
      " The        fox       over      dog\n",
      "  |          |         |         |  \n",
      " ...        ...       ...       ...\n",
      "\n"
     ]
    }
   ],
   "source": [
    "print(\"The manual syntax tree\")\n",
    "syntax_tree = build_parse_tree(tokens)\n",
    "syntax_tree.pretty_print()"
   ]
  },
  {
   "cell_type": "code",
   "execution_count": 12,
   "metadata": {},
   "outputs": [
    {
     "name": "stdout",
     "output_type": "stream",
     "text": [
      "\n",
      "Word role mapping:\n",
      "The: det\n",
      "quick: adj\n",
      "brown: adj\n",
      "fox: nsub\n",
      "jumps: verb\n",
      "over: prep\n",
      "the: det\n",
      "lazy: adj\n",
      "dog: obj\n"
     ]
    }
   ],
   "source": [
    "\n",
    "# word roles in the sentence, starting the transformation processes\n",
    "if len(tokens)>=9:\n",
    "    roles={\n",
    "        tokens[0]:\"det\", tokens[1]:\"adj\", tokens[2]:\"adj\", tokens[3]:\"nsub\",\n",
    "        tokens[4]:\"verb\", tokens[5]:\"prep\", tokens[6]:\"det\", tokens[7]:\"adj\", tokens[8]:\"obj\"\n",
    "\n",
    "    }\n",
    "else: \n",
    "    roles ={token:\"unknown\" for token in tokens}    \n",
    "print(\"\\nWord role mapping:\")\n",
    "for word, role in roles.items():\n",
    "    print(f\"{word}: {role}\")"
   ]
  },
  {
   "cell_type": "code",
   "execution_count": 19,
   "metadata": {},
   "outputs": [
    {
     "name": "stdout",
     "output_type": "stream",
     "text": [
      "Array (index based representation):\n",
      "0 The\n",
      "1 quick\n",
      "2 brown\n",
      "3 fox\n",
      "4 jumps\n",
      "5 over\n",
      "6 the\n",
      "7 lazy\n",
      "8 dog\n"
     ]
    }
   ],
   "source": [
    "word_list = tokens\n",
    "word_dict = {i: word for i, word in enumerate(tokens)}\n",
    "print(\"Array (index based representation):\")\n",
    "word_dict\n",
    "\n",
    "for key, value in word_dict.items():\n",
    "    print(key, value)"
   ]
  },
  {
   "cell_type": "code",
   "execution_count": 24,
   "metadata": {},
   "outputs": [
    {
     "data": {
      "text/html": [
       "<div>\n",
       "<style scoped>\n",
       "    .dataframe tbody tr th:only-of-type {\n",
       "        vertical-align: middle;\n",
       "    }\n",
       "\n",
       "    .dataframe tbody tr th {\n",
       "        vertical-align: top;\n",
       "    }\n",
       "\n",
       "    .dataframe thead th {\n",
       "        text-align: right;\n",
       "    }\n",
       "</style>\n",
       "<table border=\"1\" class=\"dataframe\">\n",
       "  <thead>\n",
       "    <tr style=\"text-align: right;\">\n",
       "      <th></th>\n",
       "      <th>Index</th>\n",
       "      <th>Word</th>\n",
       "      <th>Role</th>\n",
       "    </tr>\n",
       "  </thead>\n",
       "  <tbody>\n",
       "    <tr>\n",
       "      <th>0</th>\n",
       "      <td>0</td>\n",
       "      <td>The</td>\n",
       "      <td>det</td>\n",
       "    </tr>\n",
       "    <tr>\n",
       "      <th>1</th>\n",
       "      <td>1</td>\n",
       "      <td>quick</td>\n",
       "      <td>adj</td>\n",
       "    </tr>\n",
       "    <tr>\n",
       "      <th>2</th>\n",
       "      <td>2</td>\n",
       "      <td>brown</td>\n",
       "      <td>adj</td>\n",
       "    </tr>\n",
       "    <tr>\n",
       "      <th>3</th>\n",
       "      <td>3</td>\n",
       "      <td>fox</td>\n",
       "      <td>nsub</td>\n",
       "    </tr>\n",
       "    <tr>\n",
       "      <th>4</th>\n",
       "      <td>4</td>\n",
       "      <td>jumps</td>\n",
       "      <td>verb</td>\n",
       "    </tr>\n",
       "  </tbody>\n",
       "</table>\n",
       "</div>"
      ],
      "text/plain": [
       "   Index   Word  Role\n",
       "0      0    The   det\n",
       "1      1  quick   adj\n",
       "2      2  brown   adj\n",
       "3      3    fox  nsub\n",
       "4      4  jumps  verb"
      ]
     },
     "execution_count": 24,
     "metadata": {},
     "output_type": "execute_result"
    }
   ],
   "source": [
    "import pandas as pd \n",
    "df = pd.DataFrame({\n",
    "    'Index':list(word_dict.keys()),\n",
    "    'Word':list(word_dict.values()),\n",
    "    \"Role\": [roles.get(word, \"unknown\") for word in word_dict.values()]\n",
    "})\n",
    "df.head()"
   ]
  },
  {
   "cell_type": "code",
   "execution_count": 25,
   "metadata": {},
   "outputs": [
    {
     "name": "stderr",
     "output_type": "stream",
     "text": [
      "/Users/dimtriospanagoulias/miniconda3/envs/nlpunipi/lib/python3.10/site-packages/tqdm/auto.py:21: TqdmWarning: IProgress not found. Please update jupyter and ipywidgets. See https://ipywidgets.readthedocs.io/en/stable/user_install.html\n",
      "  from .autonotebook import tqdm as notebook_tqdm\n",
      "2025-03-24 15:41:56 INFO: Checking for updates to resources.json in case models have been updated.  Note: this behavior can be turned off with download_method=None or download_method=DownloadMethod.REUSE_RESOURCES\n",
      "Downloading https://raw.githubusercontent.com/stanfordnlp/stanza-resources/main/resources_1.10.0.json: 424kB [00:00, 13.4MB/s]                    \n",
      "2025-03-24 15:41:56 INFO: Downloaded file to /Users/dimtriospanagoulias/stanza_resources/resources.json\n",
      "2025-03-24 15:41:56 WARNING: Language en package default expects mwt, which has been added\n",
      "2025-03-24 15:41:57 INFO: Loading these models for language: en (English):\n",
      "===============================\n",
      "| Processor | Package         |\n",
      "-------------------------------\n",
      "| tokenize  | combined        |\n",
      "| mwt       | combined        |\n",
      "| pos       | combined_charlm |\n",
      "===============================\n",
      "\n",
      "2025-03-24 15:41:57 INFO: Using device: cpu\n",
      "2025-03-24 15:41:57 INFO: Loading: tokenize\n",
      "2025-03-24 15:41:58 INFO: Loading: mwt\n",
      "2025-03-24 15:41:58 INFO: Loading: pos\n",
      "2025-03-24 15:41:59 INFO: Done loading processors!\n"
     ]
    }
   ],
   "source": [
    "import stanza\n",
    "nlp =stanza.Pipeline(lang='en', processors=\"tokenize,pos\")\n",
    "\n"
   ]
  },
  {
   "cell_type": "code",
   "execution_count": 33,
   "metadata": {},
   "outputs": [],
   "source": [
    "def stanza_pos_parser(sentence):\n",
    "    doc = nlp(sentence)\n",
    "    tokens = [word.text for sent in doc.sentences for word in sent.words]\n",
    "    pos_tags = [(word.text,word.upos) for sent in doc.sentences for word in sent.words] \n",
    "\n",
    "    print(\"Stanza pipeline tokenization And Part Of Speech Tagging\")\n",
    "    # for token, pos in pos_tags:\n",
    "    #     print(f\"{token}: {pos}\")\n",
    "    return tokens, pos_tags\n",
    "        "
   ]
  },
  {
   "cell_type": "code",
   "execution_count": 34,
   "metadata": {},
   "outputs": [
    {
     "name": "stdout",
     "output_type": "stream",
     "text": [
      "Stanza pipeline tokenization And Part Of Speech Tagging\n"
     ]
    }
   ],
   "source": [
    "sentence = '''\n",
    "Building upon Mistral Small 3 (2501), Mistral Small 3.1 (2503) adds state-of-the-art vision understanding and enhances long context capabilities up to 128k tokens without compromising text performance. With 24 billion parameters, this model achieves top-tier capabilities in both text and vision tasks\n",
    "'''\n",
    "tokens, pos_tags = stanza_pos_parser(sentence)"
   ]
  },
  {
   "cell_type": "code",
   "execution_count": 35,
   "metadata": {},
   "outputs": [
    {
     "data": {
      "text/html": [
       "<div>\n",
       "<style scoped>\n",
       "    .dataframe tbody tr th:only-of-type {\n",
       "        vertical-align: middle;\n",
       "    }\n",
       "\n",
       "    .dataframe tbody tr th {\n",
       "        vertical-align: top;\n",
       "    }\n",
       "\n",
       "    .dataframe thead th {\n",
       "        text-align: right;\n",
       "    }\n",
       "</style>\n",
       "<table border=\"1\" class=\"dataframe\">\n",
       "  <thead>\n",
       "    <tr style=\"text-align: right;\">\n",
       "      <th></th>\n",
       "      <th>Token</th>\n",
       "      <th>POS</th>\n",
       "    </tr>\n",
       "  </thead>\n",
       "  <tbody>\n",
       "    <tr>\n",
       "      <th>0</th>\n",
       "      <td>Building</td>\n",
       "      <td>VERB</td>\n",
       "    </tr>\n",
       "    <tr>\n",
       "      <th>1</th>\n",
       "      <td>upon</td>\n",
       "      <td>ADP</td>\n",
       "    </tr>\n",
       "    <tr>\n",
       "      <th>2</th>\n",
       "      <td>Mistral</td>\n",
       "      <td>PROPN</td>\n",
       "    </tr>\n",
       "    <tr>\n",
       "      <th>3</th>\n",
       "      <td>Small</td>\n",
       "      <td>ADJ</td>\n",
       "    </tr>\n",
       "    <tr>\n",
       "      <th>4</th>\n",
       "      <td>3</td>\n",
       "      <td>NUM</td>\n",
       "    </tr>\n",
       "  </tbody>\n",
       "</table>\n",
       "</div>"
      ],
      "text/plain": [
       "      Token    POS\n",
       "0  Building   VERB\n",
       "1      upon    ADP\n",
       "2   Mistral  PROPN\n",
       "3     Small    ADJ\n",
       "4         3    NUM"
      ]
     },
     "execution_count": 35,
     "metadata": {},
     "output_type": "execute_result"
    }
   ],
   "source": [
    "stanza_dataframe = pd.DataFrame({\n",
    "    'Token': [token for token, pos in pos_tags],\n",
    "    'POS': [pos for token, pos in pos_tags]\n",
    "})\n",
    "stanza_dataframe.head()"
   ]
  },
  {
   "cell_type": "code",
   "execution_count": null,
   "metadata": {},
   "outputs": [],
   "source": []
  }
 ],
 "metadata": {
  "kernelspec": {
   "display_name": "nlpunipi",
   "language": "python",
   "name": "python3"
  },
  "language_info": {
   "codemirror_mode": {
    "name": "ipython",
    "version": 3
   },
   "file_extension": ".py",
   "mimetype": "text/x-python",
   "name": "python",
   "nbconvert_exporter": "python",
   "pygments_lexer": "ipython3",
   "version": "3.10.16"
  }
 },
 "nbformat": 4,
 "nbformat_minor": 2
}
