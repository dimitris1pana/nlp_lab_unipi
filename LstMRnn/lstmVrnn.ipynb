{
 "cells": [
  {
   "cell_type": "code",
   "execution_count": 31,
   "metadata": {},
   "outputs": [],
   "source": [
    "# Libraries\n",
    "import torch\n",
    "import torch.nn as nn\n",
    "import torch.nn.functional as F # hot encoding\n",
    "text = \"Sequence to sequence models are a type of neural network architecture used for tasks such as machine translation, text summarization, and image captioning. They consist of an encoder that processes the input sequence and a decoder that generates the output sequence.\"\n"
   ]
  },
  {
   "cell_type": "code",
   "execution_count": 32,
   "metadata": {},
   "outputs": [
    {
     "name": "stdout",
     "output_type": "stream",
     "text": [
      "{' ': 0, ',': 1, '.': 2, 'S': 3, 'T': 4, 'a': 5, 'c': 6, 'd': 7, 'e': 8, 'f': 9, 'g': 10, 'h': 11, 'i': 12, 'k': 13, 'l': 14, 'm': 15, 'n': 16, 'o': 17, 'p': 18, 'q': 19, 'r': 20, 's': 21, 't': 22, 'u': 23, 'w': 24, 'x': 25, 'y': 26, 'z': 27}\n",
      "{0: ' ', 1: ',', 2: '.', 3: 'S', 4: 'T', 5: 'a', 6: 'c', 7: 'd', 8: 'e', 9: 'f', 10: 'g', 11: 'h', 12: 'i', 13: 'k', 14: 'l', 15: 'm', 16: 'n', 17: 'o', 18: 'p', 19: 'q', 20: 'r', 21: 's', 22: 't', 23: 'u', 24: 'w', 25: 'x', 26: 'y', 27: 'z'}\n",
      "28\n"
     ]
    }
   ],
   "source": [
    "chars = sorted(set(text))\n",
    "char_to_idx = {ch:i for i,ch in enumerate(chars)}\n",
    "print(char_to_idx)\n",
    "idx_to_char = {o:ch for ch, o in char_to_idx.items()}\n",
    "print(idx_to_char)\n",
    "vocal_size = len(chars)\n",
    "print(vocal_size)"
   ]
  },
  {
   "cell_type": "code",
   "execution_count": 33,
   "metadata": {},
   "outputs": [],
   "source": [
    "# Text to tensor \n",
    "\n",
    "def text_to_tensor(text): # using torch hot encoding\n",
    "    indices = [char_to_idx[ch] for ch in text]\n",
    "    return F.one_hot(torch.tensor(indices), num_classes=vocal_size).float().unsqueeze(1) # one hot encoding\n",
    "\n"
   ]
  },
  {
   "cell_type": "code",
   "execution_count": 34,
   "metadata": {},
   "outputs": [],
   "source": [
    "# create the models \n",
    "class SimpleRNN(nn.Module):\n",
    "    def __init__(self, input_size, hidden_size, output_size):\n",
    "        super().__init__()\n",
    "        self.rnn = nn.RNN(input_size, hidden_size)\n",
    "        self.fc = nn.Linear(hidden_size, output_size)\n",
    "    def forward(self,x):\n",
    "        out,_ =self.rnn(x)\n",
    "        return self.fc(out).unsqueeze(1)\n",
    "\n",
    "class SimpleLSTM(nn.Module):\n",
    "    def __init__(self, input_size, hidden_size, output_size):\n",
    "        super().__init__()\n",
    "        self.lstm = nn.LSTM(input_size, hidden_size)\n",
    "        self.fc = nn.Linear(hidden_size, output_size)\n",
    "    def forward(self,x):\n",
    "        out,_ =self.lstm(x)\n",
    "        return self.fc(out).unsqueeze(1)\n",
    "    "
   ]
  },
  {
   "cell_type": "code",
   "execution_count": 35,
   "metadata": {},
   "outputs": [],
   "source": [
    "# train with model parameters\n",
    "def train_model(model, data, target, epochs=500):\n",
    "    criterion = nn.CrossEntropyLoss()\n",
    "    optimizer = torch.optim.Adam(model.parameters(), lr=0.01)\n",
    "    for epoch in range(epochs):\n",
    "        optimizer.zero_grad()\n",
    "        output = model(data)\n",
    "        loss = criterion(output.view(-1, vocal_size), target.view(-1))\n",
    "        loss.backward()\n",
    "        optimizer.step()\n",
    "        if epoch % 100 == 0:\n",
    "            print(f'Epoch {epoch}, Loss: {loss.item()}')\n",
    "\n",
    "    return model\n"
   ]
  },
  {
   "cell_type": "code",
   "execution_count": 36,
   "metadata": {},
   "outputs": [],
   "source": [
    "def generate_text(model, seed , length=60):\n",
    "\n",
    "    generated = seed \n",
    "    for _ in range(length - len(seed)):\n",
    "        input = text_to_tensor(generated[-len(seed):])\n",
    "        output = model(input)\n",
    "        next_idx = torch.argmax(output[-1]).item()\n",
    "        next_char = idx_to_char[next_idx]\n",
    "        generated += next_char\n",
    "    return generated\n",
    "                            "
   ]
  },
  {
   "cell_type": "code",
   "execution_count": 37,
   "metadata": {},
   "outputs": [],
   "source": [
    "input_tensor = text_to_tensor(text[:-1])\n",
    "target_tensor = torch.tensor([char_to_idx[ch] for ch in text[1:]])\n"
   ]
  },
  {
   "cell_type": "code",
   "execution_count": 38,
   "metadata": {},
   "outputs": [
    {
     "name": "stdout",
     "output_type": "stream",
     "text": [
      "Epoch 0, Loss: 3.358973264694214\n",
      "Epoch 100, Loss: 0.01478792168200016\n",
      "Epoch 200, Loss: 2.1885597705841064\n",
      "Epoch 300, Loss: 0.9962773323059082\n",
      "Epoch 400, Loss: 0.5164268612861633\n"
     ]
    }
   ],
   "source": [
    "rnn_model = train_model(SimpleRNN(vocal_size,64,vocal_size), input_tensor, target_tensor)"
   ]
  },
  {
   "cell_type": "code",
   "execution_count": 39,
   "metadata": {},
   "outputs": [
    {
     "name": "stdout",
     "output_type": "stream",
     "text": [
      "Epoch 0, Loss: 3.3185248374938965\n",
      "Epoch 100, Loss: 0.10996086895465851\n",
      "Epoch 200, Loss: 0.013026371598243713\n",
      "Epoch 300, Loss: 0.004575468599796295\n",
      "Epoch 400, Loss: 0.002689213026314974\n"
     ]
    }
   ],
   "source": [
    "lstm_model = train_model(SimpleLSTM(vocal_size,64,vocal_size), input_tensor, target_tensor)"
   ]
  },
  {
   "cell_type": "code",
   "execution_count": 40,
   "metadata": {},
   "outputs": [
    {
     "name": "stdout",
     "output_type": "stream",
     "text": [
      "RNN Output:\n",
      " Sequence to sequence models are a terk arasesequence tranmie\n",
      "\n",
      "LSTM Output:\n",
      " Sequence to sequence models are a type of neural network arc\n"
     ]
    }
   ],
   "source": [
    "seed = \"Sequence to sequence models are a \"\n",
    "print(\"RNN Output:\\n\", generate_text(rnn_model, seed))\n",
    "print(\"\\nLSTM Output:\\n\", generate_text(lstm_model, seed))\n"
   ]
  },
  {
   "cell_type": "markdown",
   "metadata": {},
   "source": [
    "- One-hot encoding purpose:\n",
    "\n",
    "    - Converts each character index into a binary vector\n",
    "    - The vector has length equal to vocab_size\n",
    "    - Contains all zeros except for a 1 at the position corresponding to the character's index\n"
   ]
  },
  {
   "cell_type": "markdown",
   "metadata": {},
   "source": [
    "- Decoder \n",
    "    - Converts model output probabilities back into human-readable text\n",
    "    - Reverses the one-hot encoding process we saw earlier\n"
   ]
  }
 ],
 "metadata": {
  "kernelspec": {
   "display_name": "nlpunipi",
   "language": "python",
   "name": "python3"
  },
  "language_info": {
   "codemirror_mode": {
    "name": "ipython",
    "version": 3
   },
   "file_extension": ".py",
   "mimetype": "text/x-python",
   "name": "python",
   "nbconvert_exporter": "python",
   "pygments_lexer": "ipython3",
   "version": "3.10.16"
  }
 },
 "nbformat": 4,
 "nbformat_minor": 2
}
