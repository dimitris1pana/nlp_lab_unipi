{
 "cells": [
  {
   "cell_type": "code",
   "execution_count": 1,
   "metadata": {},
   "outputs": [],
   "source": [
    "text = \"Hello, world! This is an NLP example.\"\n",
    "stopwords = {\"the\", \"is\", \"and\", \"an\", \"a\", \"this\"}\n",
    "textstopworlds = \"This is an example of stopword removal in NLP.\"\n",
    "suffixesStemming = [\"ing\", \"ed\", \"ly\", \"es\", \"s\"]\n",
    "words2Stem = [\"running\", \"jumps\", \"happily\", \"played\", \"cats\"]\n"
   ]
  },
  {
   "cell_type": "code",
   "execution_count": 2,
   "metadata": {},
   "outputs": [
    {
     "name": "stdout",
     "output_type": "stream",
     "text": [
      "['Hello,', 'world!', 'This', 'is', 'an', 'NLP', 'example.']\n"
     ]
    }
   ],
   "source": [
    "token = text.split()\n",
    "print(token)"
   ]
  },
  {
   "cell_type": "code",
   "execution_count": 3,
   "metadata": {},
   "outputs": [
    {
     "name": "stdout",
     "output_type": "stream",
     "text": [
      "['Hello', 'world', 'This', 'is', 'an', 'NLP', 'example']\n"
     ]
    }
   ],
   "source": [
    "import re \n",
    "tokens = re.findall(r'\\b\\w+\\b', text)\n",
    "print(tokens)"
   ]
  },
  {
   "cell_type": "code",
   "execution_count": 4,
   "metadata": {},
   "outputs": [
    {
     "name": "stdout",
     "output_type": "stream",
     "text": [
      "['Hello', ',', 'world', '!', 'This', 'is', 'an', 'NLP', 'example', '.']\n"
     ]
    },
    {
     "name": "stderr",
     "output_type": "stream",
     "text": [
      "[nltk_data] Downloading package punkt to\n",
      "[nltk_data]     /Users/dimtriospanagoulias/nltk_data...\n",
      "[nltk_data]   Package punkt is already up-to-date!\n"
     ]
    }
   ],
   "source": [
    "import nltk\n",
    "nltk.download('punkt')\n",
    "from nltk.tokenize import word_tokenize\n",
    "tokens = word_tokenize(text)\n",
    "print(tokens)"
   ]
  },
  {
   "cell_type": "code",
   "execution_count": 5,
   "metadata": {},
   "outputs": [
    {
     "name": "stdout",
     "output_type": "stream",
     "text": [
      "['hello', ',', 'world', '!', 'this', 'is', 'an', 'nl', '##p', 'example', '.']\n"
     ]
    }
   ],
   "source": [
    "from transformers import AutoTokenizer\n",
    "tokenizer = AutoTokenizer.from_pretrained(\"bert-base-uncased\")\n",
    "tokens = tokenizer.tokenize(text)\n",
    "print(tokens)"
   ]
  },
  {
   "cell_type": "code",
   "execution_count": null,
   "metadata": {},
   "outputs": [
    {
     "name": "stdout",
     "output_type": "stream",
     "text": [
      "{'a', 'an', 'this', 'is', 'and', 'the'}\n",
      "Original tokenization ['hello', ',', 'world', '!', 'this', 'is', 'an', 'nl', '##p', 'example', '.']\n",
      "with stopwords removed ['hello', ',', 'world', '!', 'nl', '##p', 'example', '.']\n"
     ]
    }
   ],
   "source": [
    "print(stopwords)\n",
    "# print(tokens)\n",
    "print(\"Original tokenization\",tokens)\n",
    "filtered_tokens = [word for word in tokens if word.lower() not in stopwords]\n",
    "print(\"with stopwords removed\",filtered_tokens)\n",
    "\n"
   ]
  },
  {
   "cell_type": "code",
   "execution_count": 13,
   "metadata": {},
   "outputs": [
    {
     "name": "stderr",
     "output_type": "stream",
     "text": [
      "[nltk_data] Downloading package stopwords to\n",
      "[nltk_data]     /Users/dimtriospanagoulias/nltk_data...\n",
      "[nltk_data]   Package stopwords is already up-to-date!\n"
     ]
    },
    {
     "data": {
      "text/plain": [
       "True"
      ]
     },
     "execution_count": 13,
     "metadata": {},
     "output_type": "execute_result"
    }
   ],
   "source": [
    "from nltk.corpus import stopwords\n",
    "nltk.download('stopwords')"
   ]
  },
  {
   "cell_type": "code",
   "execution_count": 14,
   "metadata": {},
   "outputs": [
    {
     "name": "stdout",
     "output_type": "stream",
     "text": [
      "with nltk stopwords removed ['Hello', ',', 'world', '!', 'NLP', 'example', '.']\n"
     ]
    }
   ],
   "source": [
    "stop_words = set(stopwords.words('english'))\n",
    "tokens = nltk.word_tokenize(text)\n",
    "filtered_tokens2= [word for word in tokens if word.lower() not in stop_words]\n",
    "print(\"with nltk stopwords removed\",filtered_tokens2)"
   ]
  },
  {
   "cell_type": "code",
   "execution_count": 17,
   "metadata": {},
   "outputs": [
    {
     "name": "stdout",
     "output_type": "stream",
     "text": [
      "['ing', 'ed', 'ly', 'es', 's']\n",
      "Stemming ['runn', 'jump', 'happi', 'play', 'cat']\n"
     ]
    }
   ],
   "source": [
    "print(suffixesStemming)\n",
    "# def simple_stemmer(word):\n",
    "def simple_Stemming(word,suffixesVoc):\n",
    "    for suf in suffixesVoc:\n",
    "        if word.endswith(suf):\n",
    "            return word[:-len(suf)]\n",
    "    return word\n",
    "\n",
    "stemming = [simple_Stemming(word, suffixesStemming) for word in words2Stem]\n",
    "print(\"Stemming\", stemming)"
   ]
  },
  {
   "cell_type": "code",
   "execution_count": 19,
   "metadata": {},
   "outputs": [
    {
     "name": "stdout",
     "output_type": "stream",
     "text": [
      "Stemming with nltk ['run', 'jump', 'happili', 'play', 'cat']\n"
     ]
    }
   ],
   "source": [
    "from nltk.stem import PorterStemmer\n",
    "stemmer = PorterStemmer()\n",
    "stemmed_words =[stemmer.stem(word) for word in words2Stem]\n",
    "print(\"Stemming with nltk\", stemmed_words)"
   ]
  },
  {
   "cell_type": "code",
   "execution_count": 20,
   "metadata": {},
   "outputs": [
    {
     "name": "stdout",
     "output_type": "stream",
     "text": [
      "Stemming with Lancaster ['run', 'jump', 'happy', 'play', 'cat']\n"
     ]
    }
   ],
   "source": [
    "from nltk.stem import LancasterStemmer\n",
    "ls = LancasterStemmer()\n",
    "stemmed_words = [ls.stem(word) for word in words2Stem]\n",
    "print(\"Stemming with Lancaster\", stemmed_words)"
   ]
  },
  {
   "cell_type": "markdown",
   "metadata": {},
   "source": [
    "# Tokenization -- > # Stopworld Removal --- > # Stemming"
   ]
  }
 ],
 "metadata": {
  "kernelspec": {
   "display_name": "nlpunipi",
   "language": "python",
   "name": "python3"
  },
  "language_info": {
   "codemirror_mode": {
    "name": "ipython",
    "version": 3
   },
   "file_extension": ".py",
   "mimetype": "text/x-python",
   "name": "python",
   "nbconvert_exporter": "python",
   "pygments_lexer": "ipython3",
   "version": "3.10.16"
  }
 },
 "nbformat": 4,
 "nbformat_minor": 2
}
